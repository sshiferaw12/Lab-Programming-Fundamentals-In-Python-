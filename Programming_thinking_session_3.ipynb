{
  "nbformat": 4,
  "nbformat_minor": 0,
  "metadata": {
    "colab": {
      "provenance": [],
      "collapsed_sections": [
        "TUr-9xOlIAOn",
        "9Pq3CBYvXdpq",
        "K2YTXMfjomOo",
        "siy33v-OosXz"
      ],
      "authorship_tag": "ABX9TyN6INsjwDBBR6PcRWUxofew",
      "include_colab_link": true
    },
    "kernelspec": {
      "name": "python3",
      "display_name": "Python 3"
    },
    "language_info": {
      "name": "python"
    }
  },
  "cells": [
    {
      "cell_type": "markdown",
      "metadata": {
        "id": "view-in-github",
        "colab_type": "text"
      },
      "source": [
        "<a href=\"https://colab.research.google.com/github/sshiferaw12/Lab-Programming-Fundamentals-In-Python-/blob/main/Programming_thinking_session_3.ipynb\" target=\"_parent\"><img src=\"https://colab.research.google.com/assets/colab-badge.svg\" alt=\"Open In Colab\"/></a>"
      ]
    },
    {
      "cell_type": "markdown",
      "source": [],
      "metadata": {
        "id": "6QGOvJu2HgTM"
      }
    },
    {
      "cell_type": "markdown",
      "source": [
        " ![image.png](data:image/png;base64,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)"
      ],
      "metadata": {
        "id": "rjmMApXYHiMz"
      }
    },
    {
      "cell_type": "markdown",
      "source": [
        "#**Programming Thinking Session 3**\n"
      ],
      "metadata": {
        "id": "321nFODyHcUH"
      }
    },
    {
      "cell_type": "markdown",
      "source": [
        "## Fundamental Data Types"
      ],
      "metadata": {
        "id": "TUr-9xOlIAOn"
      }
    },
    {
      "cell_type": "markdown",
      "source": [
        "Python has 4 primitive data types\n",
        "\n",
        "\n",
        "1.   Integers (int)\n",
        "    - Whole numbers without decimal points.\n",
        "    - Examples: -2, 0, 15, 1000\n",
        "2.   Floating-Point Numbers (float)\n",
        "    - Numbers with decimal points.\n",
        "    - Examples: 3.14, -0.5, 2.71828\n",
        "3.   Strings (str)\n",
        "    - Sequences of characters.\n",
        "    - Examples: \"Hello\", 'world', \"Python is fun!\"\n",
        "4.   Booleans (bool)\n",
        "    - Represent truth values: True or False.\n",
        "\n",
        "\n",
        "\n"
      ],
      "metadata": {
        "id": "R4oYa_sgcGSp"
      }
    },
    {
      "cell_type": "markdown",
      "source": [
        "Getting the type of a value"
      ],
      "metadata": {
        "id": "MfcjjiIWeunX"
      }
    },
    {
      "cell_type": "code",
      "source": [
        "print(type(10))\n",
        "\n",
        "y = 3.14\n",
        "print(type(y))\n",
        "\n",
        "message = \"Hello, world!\"\n",
        "print(type(message))\n",
        "\n",
        "is_python_fun = True\n",
        "print(type(is_python_fun))\n"
      ],
      "metadata": {
        "colab": {
          "base_uri": "https://localhost:8080/"
        },
        "id": "J5sioLosdxxx",
        "outputId": "498e9761-1595-4850-b563-3450993e096a"
      },
      "execution_count": null,
      "outputs": [
        {
          "output_type": "stream",
          "name": "stdout",
          "text": [
            "<class 'int'>\n",
            "<class 'float'>\n",
            "<class 'str'>\n",
            "<class 'bool'>\n"
          ]
        }
      ]
    },
    {
      "cell_type": "markdown",
      "source": [
        "Type Conversion\n"
      ],
      "metadata": {
        "id": "T28KZcyVgI1E"
      }
    },
    {
      "cell_type": "markdown",
      "source": [
        "You can convert data types using functions like int(), float(), str(), and bool()."
      ],
      "metadata": {
        "id": "hMJqjpSegRNU"
      }
    },
    {
      "cell_type": "code",
      "source": [
        "\n",
        "# Valid conversions\n",
        "num_string = \"10\"\n",
        "num_int = int(num_string)  # Convert string to integer\n",
        "print(num_int, type(num_int))\n",
        "\n",
        "float_string = \"3.14\"\n",
        "float_num = float(float_string) # Convert string to float\n",
        "print(float_num, type(float_num))\n",
        "\n",
        "num = 42\n",
        "num_string = str(num)  # Convert integer to string\n",
        "print(num_string, type(num_string))\n",
        "\n",
        "# Invalid conversions (will raise errors)\n",
        "# Uncomment to see the errors\n",
        "# invalid_int = int(\"hello\")  # Cannot convert non-numeric string to integer\n",
        "# invalid_float = float(\"abc\")  # Cannot convert non-numeric string to float\n"
      ],
      "metadata": {
        "colab": {
          "base_uri": "https://localhost:8080/"
        },
        "id": "RiyJ57iygRuq",
        "outputId": "7874a136-3c9c-4538-faa9-a84356e15db5"
      },
      "execution_count": null,
      "outputs": [
        {
          "output_type": "stream",
          "name": "stdout",
          "text": [
            "10 <class 'int'>\n",
            "3.14 <class 'float'>\n",
            "42 <class 'str'>\n"
          ]
        }
      ]
    },
    {
      "cell_type": "markdown",
      "source": [
        "## Variables"
      ],
      "metadata": {
        "id": "9Pq3CBYvXdpq"
      }
    },
    {
      "cell_type": "markdown",
      "source": [
        "\n",
        "Variables are like containers that hold data. Think of them as labeled boxes where you can store information for later use. This information can be numbers, text, lists, or other types of data.\n",
        "\n",
        " **Why Use Variables?**\n",
        "\n",
        " - **Storing Data:** Variables let you save data so you don't have to re-enter it every time.\n",
        " - **Flexibility:** You can change the value of a variable during your program.\n",
        " - **Readability:** Using meaningful variable names makes your code easier to understand.\n",
        "\n",
        " **How to Create Variables**\n",
        "\n",
        " In Python, you create a variable by assigning it a value using the equals sign (`=`).\n",
        "\n",
        "\n",
        "\n"
      ],
      "metadata": {
        "id": "j8eOz0LSjOJB"
      }
    },
    {
      "cell_type": "code",
      "source": [
        "# **Examples:**\n",
        "\n",
        "# Storing a number:\n",
        "age = 25\n",
        "\n",
        "# Storing text (a string):\n",
        "name = \"Alice\"\n",
        "\n",
        "# Example:\n",
        "print(\"My name is\", name, \"and I am\", age, \"years old.\")\n",
        "\n",
        "# **Important Notes**\n"
      ],
      "metadata": {
        "colab": {
          "base_uri": "https://localhost:8080/"
        },
        "id": "eoSKgI3_jyUK",
        "outputId": "a084a8e8-ee2d-42e1-cabc-685bed9525b3"
      },
      "execution_count": null,
      "outputs": [
        {
          "output_type": "stream",
          "name": "stdout",
          "text": [
            "My name is Alice and I am 25 years old.\n"
          ]
        }
      ]
    },
    {
      "cell_type": "markdown",
      "source": [
        "**Notes on varaible naming**\n",
        " - Variable names can contain letters, numbers, and underscores, but they cannot start with a number.\n",
        " - Variable names are case-sensitive (e.g., `age` is different from `Age`).\n",
        " - Choose descriptive names that reflect the data the variable holds.\n",
        " - Variable names can’t contain special characters such as !, @, .\n",
        " - Variable names Can’t be one of the reserved words\n",
        "\n",
        "\n"
      ],
      "metadata": {
        "id": "NeSDhzoBl0AN"
      }
    },
    {
      "cell_type": "code",
      "source": [
        "# You can see the list of reserved keywords as follows\n",
        "\n",
        "import keyword\n",
        "print(keyword.kwlist)"
      ],
      "metadata": {
        "colab": {
          "base_uri": "https://localhost:8080/"
        },
        "id": "X5S8abbIl_FK",
        "outputId": "10798c40-2245-42b9-a2a9-5ba69fc2b1c9"
      },
      "execution_count": null,
      "outputs": [
        {
          "output_type": "stream",
          "name": "stdout",
          "text": [
            "['False', 'None', 'True', 'and', 'as', 'assert', 'async', 'await', 'break', 'class', 'continue', 'def', 'del', 'elif', 'else', 'except', 'finally', 'for', 'from', 'global', 'if', 'import', 'in', 'is', 'lambda', 'nonlocal', 'not', 'or', 'pass', 'raise', 'return', 'try', 'while', 'with', 'yield']\n"
          ]
        }
      ]
    },
    {
      "cell_type": "markdown",
      "source": [
        "## Operators"
      ],
      "metadata": {
        "id": "jTy5M1tNijMu"
      }
    },
    {
      "cell_type": "markdown",
      "source": [
        "Operations on Data Types\n",
        "\n",
        "Each data type supports specific operations.\n",
        "\n",
        "- Arithmetic operations for numbers: +, -, *, /, //, %, **\n",
        "- Concatenation for strings: +,*\n",
        "- Logical operations for booleans: and, or, not\n"
      ],
      "metadata": {
        "id": "pHyYVa0rkDiu"
      }
    },
    {
      "cell_type": "markdown",
      "source": [
        "### Examples on operators"
      ],
      "metadata": {
        "id": "937YWJmjlGZF"
      }
    },
    {
      "cell_type": "code",
      "source": [
        "\n",
        "# Arithmetic operations for numbers\n",
        "x = 10\n",
        "y = 3\n",
        "\n",
        "print(x + y)  # Addition: 13\n",
        "print(x - y)  # Subtraction: 7\n",
        "print(x * y)  # Multiplication: 30\n",
        "print(x / y)  # Division: 3.333...\n",
        "print(x // y) # Floor division: 3 (discards the decimal part)\n",
        "print(x % y)  # Modulus (remainder): 1\n",
        "print(x ** y) # Exponentiation: 1000\n",
        "\n",
        "# Concatenation for strings\n",
        "greeting = \"Hello\"\n",
        "name = \"Alice\"\n",
        "message = greeting + \", \" + name + \"!\"\n",
        "print(message)  # Output: Hello, Alice!\n",
        "\n",
        "# String repetition\n",
        "repeated_string = \"Python\" * 3\n",
        "print(repeated_string)  # Output: PythonPythonPython\n",
        "\n",
        "# Logical operations for booleans\n",
        "is_raining = True\n",
        "has_umbrella = False\n",
        "\n",
        "print(is_raining and has_umbrella)  # False (both conditions need to be True for 'and')\n",
        "print(is_raining or has_umbrella)  # True (at least one condition needs to be True for 'or')\n",
        "print(not is_raining)  # False (inverts the truth value)\n"
      ],
      "metadata": {
        "id": "YQj5cM3ek1lc"
      },
      "execution_count": null,
      "outputs": []
    },
    {
      "cell_type": "markdown",
      "source": [],
      "metadata": {
        "id": "Cuu_EMowmMLr"
      }
    },
    {
      "cell_type": "markdown",
      "source": [
        "## User inputs\n",
        "We can use python's `input()` function to take users input into our program. It pauses the program execution and waits for the user to enter some text. Once the user presses Enter, the function returns the input as a string.\n",
        "\n"
      ],
      "metadata": {
        "id": "CfVIue88mNhH"
      }
    },
    {
      "cell_type": "markdown",
      "source": [],
      "metadata": {
        "id": "U5wt5CT2m628"
      }
    },
    {
      "cell_type": "code",
      "source": [
        "# Example\n",
        "name = input(\"What is your name? \")\n",
        "print(\"Hello,\", name)"
      ],
      "metadata": {
        "colab": {
          "base_uri": "https://localhost:8080/"
        },
        "id": "t1KRVEcbm0FA",
        "outputId": "3938f79d-ffb6-4af2-e622-a93eae0a1d42"
      },
      "execution_count": null,
      "outputs": [
        {
          "output_type": "stream",
          "name": "stdout",
          "text": [
            "What is your name? sol\n",
            "Hello, sol\n"
          ]
        }
      ]
    },
    {
      "cell_type": "markdown",
      "source": [
        "Note: Input is always a string: Even if the user enters a number, the `input()` function returns it as a string."
      ],
      "metadata": {
        "id": "wxBpKlg8m7zc"
      }
    },
    {
      "cell_type": "markdown",
      "source": [
        "### Exercise - 1"
      ],
      "metadata": {
        "id": "K2YTXMfjomOo"
      }
    },
    {
      "cell_type": "markdown",
      "source": [
        "Create a program that calculates the total number of seconds in an hour\n"
      ],
      "metadata": {
        "id": "92sTILCsopxA"
      }
    },
    {
      "cell_type": "markdown",
      "source": [
        "### Exercise - 2"
      ],
      "metadata": {
        "id": "siy33v-OosXz"
      }
    },
    {
      "cell_type": "markdown",
      "source": [
        "Create a program that asks the user for their age and their friend’s age and calculate the age difference."
      ],
      "metadata": {
        "id": "xt78Ar5aovif"
      }
    },
    {
      "cell_type": "markdown",
      "source": [
        "### Exercise - 3"
      ],
      "metadata": {
        "id": "RP3SEOpzpJ56"
      }
    },
    {
      "cell_type": "markdown",
      "source": [
        "Temperature conversion:\n",
        "\n",
        "Create a program that asks the user for the current temperature in Celsius and print the temperature in Fahrenheit.\n",
        "\n",
        "Convert it to Fahrenheit using the formula: fahrenheit = (celsius * 9/5) + 32"
      ],
      "metadata": {
        "id": "ShY4YfCIpIVI"
      }
    },
    {
      "cell_type": "markdown",
      "source": [
        "### Exercise - 4"
      ],
      "metadata": {
        "id": "q1NyCrlFpifN"
      }
    },
    {
      "cell_type": "markdown",
      "source": [
        "Simple interest calculator:\n",
        "\n",
        "- Ask the user for principal amount, rate of interest, and time period.\n",
        "- Calculate simple interest using the formula: interest = (principal * rate * time) / 100\n",
        "- Print the interest."
      ],
      "metadata": {
        "id": "KFWGMDTjp0T7"
      }
    }
  ]
}