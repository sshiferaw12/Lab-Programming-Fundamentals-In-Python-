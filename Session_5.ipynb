{
  "nbformat": 4,
  "nbformat_minor": 0,
  "metadata": {
    "colab": {
      "provenance": [],
      "authorship_tag": "ABX9TyNloME57KMSg1/OgpnVaf9v",
      "include_colab_link": true
    },
    "kernelspec": {
      "name": "python3",
      "display_name": "Python 3"
    },
    "language_info": {
      "name": "python"
    }
  },
  "cells": [
    {
      "cell_type": "markdown",
      "metadata": {
        "id": "view-in-github",
        "colab_type": "text"
      },
      "source": [
        "<a href=\"https://colab.research.google.com/github/sshiferaw12/Lab-Programming-Fundamentals-In-Python-/blob/main/Session_5.ipynb\" target=\"_parent\"><img src=\"https://colab.research.google.com/assets/colab-badge.svg\" alt=\"Open In Colab\"/></a>"
      ]
    },
    {
      "cell_type": "code",
      "execution_count": null,
      "metadata": {
        "id": "XdM_BhFM5c4r"
      },
      "outputs": [],
      "source": []
    },
    {
      "cell_type": "markdown",
      "source": [
        "# Object Oriented Programming in Python\n"
      ],
      "metadata": {
        "id": "Wamt0pfVi9ME"
      }
    },
    {
      "cell_type": "markdown",
      "source": [
        "What is OOP ?\n",
        "\n",
        "Object-oriented programming is an approach for modeling concrete, real-world things like cars, employees, and companies.\n",
        "\n",
        "OOP models real-world entities as software objects that have some data associated with them and can perform certain operations.\n",
        "\n",
        "**Class**\n",
        "\n",
        "Classes allow you to create user-defined data structures.\n",
        "\n",
        "A class contains the blueprints or the prototype from which the objects are being created. They define the attributes (data) and methods (behavior) that objects of that class will have.\n",
        "\n",
        "Example: A class named Car might have attributes like color, model, and speed, and methods like start(), stop(), and accelerate().\n",
        "\n",
        "\n",
        "\n",
        "**Object**\n",
        "Objects are instances of classes. They represent individual entities that have their own set of attributes and methods.\n",
        "\n",
        "Example: A Car object might have color set to \"red\", model set to \"Camry\", and speed set to 0.\n"
      ],
      "metadata": {
        "id": "xHpIwDy5jAgS"
      }
    },
    {
      "cell_type": "markdown",
      "source": [
        "## Defining Classes and Objects\n"
      ],
      "metadata": {
        "id": "mZStjcE9rExS"
      }
    },
    {
      "cell_type": "markdown",
      "source": [
        "We use the class keyword to create a class in Python. For example,"
      ],
      "metadata": {
        "id": "kZVFBqcwrLZB"
      }
    },
    {
      "cell_type": "code",
      "source": [
        "class ClassName:\n",
        "    # class definition\n",
        "\n",
        "class Bike:\n",
        "  name = \"\"\n",
        "  gear = 0\n",
        "\n"
      ],
      "metadata": {
        "id": "YBU0CbgorMXm"
      },
      "execution_count": null,
      "outputs": []
    },
    {
      "cell_type": "markdown",
      "source": [
        "Syntax to create an Object\n"
      ],
      "metadata": {
        "id": "m9I6-gGUrh5Z"
      }
    },
    {
      "cell_type": "code",
      "source": [
        "objectName = ClassName()"
      ],
      "metadata": {
        "id": "bm_uaPDBrkt9"
      },
      "execution_count": null,
      "outputs": []
    },
    {
      "cell_type": "code",
      "source": [
        "# Example\n",
        "# create class\n",
        "class Bike:\n",
        "    name = \"\"\n",
        "    gear = 0\n",
        "\n",
        "# create objects of class\n",
        "bike1 = Bike()"
      ],
      "metadata": {
        "id": "uqs21ci_rlbb"
      },
      "execution_count": null,
      "outputs": []
    },
    {
      "cell_type": "markdown",
      "source": [
        "### **How do we access attributes of an object ?**"
      ],
      "metadata": {
        "id": "K05ADl9zrt-B"
      }
    },
    {
      "cell_type": "code",
      "source": [
        "# We use the . notation to access the attributes of a class. For example,\n",
        "\n",
        "# modify the name attribute\n",
        "bike1.name = \"Mountain Bike\"\n",
        "\n",
        "# access the gear attribute\n",
        "bike1.gear\n",
        "print(bike1.name)"
      ],
      "metadata": {
        "colab": {
          "base_uri": "https://localhost:8080/"
        },
        "id": "VPqOZy0ir4DM",
        "outputId": "517f7e41-eb3e-41c0-9450-469bf2b140bf"
      },
      "execution_count": null,
      "outputs": [
        {
          "output_type": "stream",
          "name": "stdout",
          "text": [
            "Mountain Bike\n"
          ]
        }
      ]
    },
    {
      "cell_type": "markdown",
      "source": [
        "### Python Methods\n",
        "We can also define a function inside a Python class. A Python Function defined inside a class is called a method.\n",
        "\n",
        "Example:\n"
      ],
      "metadata": {
        "id": "huIwyLmGsIIj"
      }
    },
    {
      "cell_type": "code",
      "source": [
        "class Dog:\n",
        "  name = \"\"\n",
        "  age = 0\n",
        "\n",
        "  def speak(self):\n",
        "      print(\"My name is {}\".format(self.name))\n",
        "\n",
        "\n",
        "miles = Dog()\n",
        "miles.name = \"Miles\"\n",
        "miles.age = 4\n",
        "\n",
        "miles.speak()"
      ],
      "metadata": {
        "colab": {
          "base_uri": "https://localhost:8080/"
        },
        "id": "dfs8aK5-sgNS",
        "outputId": "edece14a-23cb-44d6-9eb1-f06fcbbd7996"
      },
      "execution_count": null,
      "outputs": [
        {
          "output_type": "stream",
          "name": "stdout",
          "text": [
            "My name is Miles\n"
          ]
        }
      ]
    },
    {
      "cell_type": "markdown",
      "source": [
        "### **Constructors**\n",
        "\n",
        "Constructors are special methods that are called when an object is created.\n",
        "\n",
        "They are responsible for initializing the object's attributes with default values or with values passed during object creation. In Python, the constructor method is always named __init__.\n",
        "\n",
        "Example:"
      ],
      "metadata": {
        "id": "oDx4UzPJt-bN"
      }
    },
    {
      "cell_type": "code",
      "source": [
        "class Person:\n",
        "  def __init__(self, name, age):\n",
        "    self.name = name\n",
        "    self.age = age\n",
        "\n",
        "  def say_hello(self):\n",
        "    print(f\"Hello, my name is {self.name} and I am {self.age} years old.\")\n",
        "\n",
        "# Create an object with initial values\n",
        "person1 = Person(\"Alice\", 30)\n",
        "# Call the method\n",
        "person1.say_hello()"
      ],
      "metadata": {
        "colab": {
          "base_uri": "https://localhost:8080/"
        },
        "id": "qgRRmhGvsgQU",
        "outputId": "a3011c82-f621-4702-c9d4-331ac953cd82"
      },
      "execution_count": null,
      "outputs": [
        {
          "output_type": "stream",
          "name": "stdout",
          "text": [
            "Hello, my name is Alice and I am 30 years old.\n"
          ]
        }
      ]
    },
    {
      "cell_type": "markdown",
      "source": [
        "## Benefits of OOP\n",
        "\n",
        "\n",
        "\n",
        "*   **Real world modeling** - OOP concepts closely mirror real-world relationships and structures, making it easier to understand and design complex systems\n",
        "\n",
        "* **Modular Code** - OOP breaks down programs into smaller, manageable modules, enhancing code readability and maintainability.\n",
        "\n",
        "* **Flexibility and Extensibility** - OOP enables flexible and extensible code that can adapt to changing requirements and add new features easily.\n",
        "\n",
        "* **Code Reusability** - OOP promotes code reuse by allowing classes to inherit from each other, reducing redundancy and development time.\n",
        "\n"
      ],
      "metadata": {
        "id": "7EBFro7Vvii9"
      }
    },
    {
      "cell_type": "markdown",
      "source": [
        "## Exercises"
      ],
      "metadata": {
        "id": "yFq6hpwdxriJ"
      }
    },
    {
      "cell_type": "markdown",
      "source": [
        "### Exercise 1. Circle Class:\n",
        "\n",
        "Create a class named Circle with attributes radius. Initialize the radius attribute in the constructor and provide methods to calculate the area and perimeter of the circle."
      ],
      "metadata": {
        "id": "1mbCVfN_xun8"
      }
    },
    {
      "cell_type": "code",
      "source": [
        "# Solution\n",
        "class Circle:\n",
        "\n",
        "  def __init__(self, radius):\n",
        "    self.radius = radius\n",
        "\n",
        "  def calculate_area(self):\n",
        "    area = 3.14 * self.radius * self.radius\n",
        "    print(\"Area = \",str(round(area,2)))\n",
        "\n",
        "  def calculate_perimeter(self):\n",
        "    perimeter = 2 * 3.14 * self.radius\n",
        "    print(\"Perimeter = \",str(round(perimeter)))\n",
        "\n",
        "ar = Circle(3)\n",
        "ar.calculate_area()\n"
      ],
      "metadata": {
        "colab": {
          "base_uri": "https://localhost:8080/"
        },
        "id": "ypwTwRoWviX-",
        "outputId": "2c2caf4a-8c2e-4701-b36d-c535176f2120"
      },
      "execution_count": 5,
      "outputs": [
        {
          "output_type": "stream",
          "name": "stdout",
          "text": [
            "Area =  28.26\n"
          ]
        }
      ]
    },
    {
      "cell_type": "markdown",
      "source": [
        "\n",
        "\n",
        "### Exercise 2 - Group Work\n",
        "\n",
        "\n",
        "Develop an object-oriented model to represent the **MCSBT program at IE**. This model should encapsulate the various entities involved in the program, their attributes, and their relationships.\n",
        "\n",
        "**Specific Requirements**:\n",
        "\n",
        "**Course Class**: Create a class named 'Course' to represent courses in the MCSBT program. Each course should have attributes for its name, credit hours, and number of sessions.\n",
        "\n",
        "**Student Class**: Create a class named 'Student' to represent students enrolled in the MCSBT program. Each student should have attributes for their name, age, courses they are currently taking, and the grades they have obtained for those courses. Implement methods in this class to:\n",
        "\n",
        "*   **print_student_information()**: Print detailed information about the student, including their name, age, and the courses they are enrolled in.\n",
        "*   **calculate_overall_grade()**: Calculate and return the student's overall GPA, considering the credit hours and grades for each course.\n",
        "\n",
        "\n",
        "**Professor Class**: Create a class named 'Professor' to represent professors teaching courses in the MCSBT program. Each professor should have attributes for their name, years of experience, and a list of courses they are currently teaching. Implement methods in this class to:\n",
        "\n",
        "\n",
        "*   **print_teaching_courses**(): Print a list of courses the professor is currently teaching.\n",
        "*   **print_professor_information**(): Print detailed information about the professor, including their name, years of experience, and the courses they are teaching.\n",
        "\n",
        "Test you program by creating different instances and calling the methods."
      ],
      "metadata": {
        "id": "qvaBfYjCb_wh"
      }
    },
    {
      "cell_type": "markdown",
      "source": [
        "### Exercise 3\n",
        "Create a python class representing a bank. Include methods for managing customer accounts and transactions through the following methods:\n",
        "\n",
        "\n",
        "1.   Create Account\n",
        "2.   Deposit\n",
        "3.   Withdraw\n",
        "4.   Check Balance\n",
        "\n",
        "\n",
        "\n"
      ],
      "metadata": {
        "id": "3LVj1CiVZl9E"
      }
    }
  ]
}