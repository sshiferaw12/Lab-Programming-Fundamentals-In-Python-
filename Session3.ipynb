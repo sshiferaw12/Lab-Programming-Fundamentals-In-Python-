{
  "nbformat": 4,
  "nbformat_minor": 0,
  "metadata": {
    "colab": {
      "provenance": [],
      "authorship_tag": "ABX9TyMe0GWUa1BpL2yuqtriyx84",
      "include_colab_link": true
    },
    "kernelspec": {
      "name": "python3",
      "display_name": "Python 3"
    },
    "language_info": {
      "name": "python"
    }
  },
  "cells": [
    {
      "cell_type": "markdown",
      "metadata": {
        "id": "view-in-github",
        "colab_type": "text"
      },
      "source": [
        "<a href=\"https://colab.research.google.com/github/sshiferaw12/Lab-Programming-Fundamentals-In-Python-/blob/main/Session3.ipynb\" target=\"_parent\"><img src=\"https://colab.research.google.com/assets/colab-badge.svg\" alt=\"Open In Colab\"/></a>"
      ]
    },
    {
      "cell_type": "markdown",
      "source": [
        "# Dictionaries in python\n",
        "\n",
        "Dictionaries are used to store data values in key: value pairs.\n",
        "Dictionaries cannot have two items with the same key:"
      ],
      "metadata": {
        "id": "XlIV5bLbU2vc"
      }
    },
    {
      "cell_type": "code",
      "source": [
        "### Example\n",
        "thisdict = {\n",
        "  \"brand\": \"Ford\",\n",
        "  \"model\": \"Mustang\",\n",
        "  \"year\": 1964\n",
        "}\n",
        "print(thisdict[\"brand\"])"
      ],
      "metadata": {
        "colab": {
          "base_uri": "https://localhost:8080/"
        },
        "id": "joTqgjw5VV7j",
        "outputId": "3c4b2837-a0e3-4181-85d4-20a65d531859"
      },
      "execution_count": null,
      "outputs": [
        {
          "output_type": "stream",
          "name": "stdout",
          "text": [
            "Ford\n"
          ]
        }
      ]
    },
    {
      "cell_type": "markdown",
      "source": [
        "We use the `len()` function to get the length of a dictionary."
      ],
      "metadata": {
        "id": "shSA6-thVmyZ"
      }
    },
    {
      "cell_type": "markdown",
      "source": [
        "**Can a list be used as a key to a dictionary?**"
      ],
      "metadata": {
        "id": "bWf9P9gvUQtF"
      }
    },
    {
      "cell_type": "markdown",
      "source": [
        "### Accessing dictionary elements\n",
        "You can access the items of a dictionary by referring to its key name, inside square brackets:\n",
        "Example:\n",
        "\n",
        "```\n",
        "thisdict = {\n",
        "  \"brand\": \"Ford\",\n",
        "  \"model\": \"Mustang\",\n",
        "  \"year\": 1964\n",
        "}\n",
        "x = thisdict[\"model\"]\n",
        "\n",
        "```\n",
        "\n",
        "You can also use the `get()` method to get the items like below:\n",
        "```\n",
        "x = thisdict.get(\"model\")\n",
        "\n",
        "```\n"
      ],
      "metadata": {
        "id": "6HNAUSASV6nm"
      }
    },
    {
      "cell_type": "markdown",
      "source": [
        "\n",
        "\n",
        "You can use the **`keys()`** method to get the keys of a dictionary. This will return a list of all the keys of a dictionary.\n",
        "\n",
        "You can use the **`values()`** method to get the values of a dictionary. This will return the values of a dictionary in a list.\n",
        "\n",
        "You can use the **`items()`** method to get the key-value pairs of a dictionary. This will return the items as a list of tuples.\n"
      ],
      "metadata": {
        "id": "kWL7myNmVh0T"
      }
    },
    {
      "cell_type": "code",
      "source": [
        "# Example:\n",
        "thisdict = {\n",
        "  \"brand\": \"Ford\",\n",
        "  \"model\": \"Mustang\",\n",
        "  \"year\": 1964\n",
        "}\n",
        "\n",
        "#keys()\n",
        "keys = thisdict.keys()\n",
        "print(list(keys))\n",
        "\n",
        "values = thisdict.values()\n",
        "print(list(values))\n",
        "\n",
        "items = thisdict.items()\n",
        "print(list(items))"
      ],
      "metadata": {
        "colab": {
          "base_uri": "https://localhost:8080/"
        },
        "id": "52KPsQXYXU6O",
        "outputId": "b2a33bcf-e49d-4d3d-c635-1809cb564658"
      },
      "execution_count": null,
      "outputs": [
        {
          "output_type": "stream",
          "name": "stdout",
          "text": [
            "['brand', 'model', 'year']\n",
            "['Ford', 'Mustang', 1964]\n",
            "[('brand', 'Ford'), ('model', 'Mustang'), ('year', 1964)]\n"
          ]
        }
      ]
    },
    {
      "cell_type": "code",
      "source": [
        "# Example - checking if an item exists in a dictionary\n",
        "thisdict = {\n",
        "  \"brand\": \"Ford\",\n",
        "  \"model\": \"Mustang\",\n",
        "  \"year\": 1964\n",
        "}\n",
        "print(\"model\" in thisdict)"
      ],
      "metadata": {
        "colab": {
          "base_uri": "https://localhost:8080/"
        },
        "id": "gp-3gr2RYEVT",
        "outputId": "0e08ad5f-8afa-4f81-8f77-2e6a840b5481"
      },
      "execution_count": null,
      "outputs": [
        {
          "output_type": "stream",
          "name": "stdout",
          "text": [
            "True\n"
          ]
        }
      ]
    },
    {
      "cell_type": "markdown",
      "source": [
        "### Adding and removing item form a dictionary\n"
      ],
      "metadata": {
        "id": "merJNnpZYjWv"
      }
    },
    {
      "cell_type": "code",
      "source": [
        "# adding item\n",
        "thisdict = {\n",
        "  \"brand\": \"Ford\",\n",
        "  \"model\": \"Mustang\",\n",
        "  \"year\": 1964\n",
        "}\n",
        "thisdict[\"color\"] = \"red\"\n",
        "print(thisdict)\n"
      ],
      "metadata": {
        "colab": {
          "base_uri": "https://localhost:8080/"
        },
        "id": "F-JTclt-YFyW",
        "outputId": "1652339a-fdf3-4916-d7e2-02ce835f660c"
      },
      "execution_count": null,
      "outputs": [
        {
          "output_type": "stream",
          "name": "stdout",
          "text": [
            "{'brand': 'Ford', 'model': 'Mustang', 'year': 1964, 'color': 'red'}\n"
          ]
        }
      ]
    },
    {
      "cell_type": "code",
      "source": [
        "# removing item\n",
        "thisdict = {\n",
        "  \"brand\": \"Ford\",\n",
        "  \"model\": \"Mustang\",\n",
        "  \"year\": 1964\n",
        "}\n",
        "thisdict.pop(\"model\")\n",
        "print(thisdict)"
      ],
      "metadata": {
        "colab": {
          "base_uri": "https://localhost:8080/"
        },
        "id": "HjU7vgY-YvIE",
        "outputId": "29eb7ac2-e6fb-4001-f317-41ba49dae417"
      },
      "execution_count": null,
      "outputs": [
        {
          "output_type": "stream",
          "name": "stdout",
          "text": [
            "{'brand': 'Ford', 'year': 1964}\n"
          ]
        }
      ]
    },
    {
      "cell_type": "markdown",
      "source": [
        "### Looping through a dictionary\n",
        "We use for loop to loop through a dictionary items"
      ],
      "metadata": {
        "id": "MJsoHtcJZAT_"
      }
    },
    {
      "cell_type": "code",
      "source": [
        "# Example\n",
        "thisdict = {\n",
        "  \"brand\": \"Ford\",\n",
        "  \"model\": \"Mustang\",\n",
        "  \"year\": 1964\n",
        "}\n",
        "\n",
        "for x in thisdict:\n",
        "  print(x)"
      ],
      "metadata": {
        "id": "_ijnkJyFY_C_"
      },
      "execution_count": null,
      "outputs": []
    },
    {
      "cell_type": "code",
      "source": [
        "# Looping through the keys\n",
        "for key in thisdict.keys():\n",
        "  print(key)\n"
      ],
      "metadata": {
        "id": "Pgxnu6_eZiqC"
      },
      "execution_count": null,
      "outputs": []
    },
    {
      "cell_type": "code",
      "source": [
        "# Looping through the values\n",
        "for value in thisdict.values():\n",
        "  print(value)"
      ],
      "metadata": {
        "id": "NbDNprw-Zjq5"
      },
      "execution_count": null,
      "outputs": []
    },
    {
      "cell_type": "code",
      "source": [
        "# Looopin through key:value pairs\n",
        "for key, value in thisdict.items():\n",
        "  print(key,value)"
      ],
      "metadata": {
        "id": "9p2JOqtIZl0k"
      },
      "execution_count": null,
      "outputs": []
    },
    {
      "cell_type": "markdown",
      "source": [
        "# Functions in python\n",
        "A function is a  block of code that performs a specific task.\n",
        "\n",
        "Functions are defined using the def keyword, followed by the function name, parentheses, and a colon. The indented block of code following the colon is the function body, which contains the code that will be executed when the function is called.\n",
        "\n",
        "You can pass data, known as parameters, into a function.\n",
        "A function can return data as a result.\n",
        "\n",
        "**Why do we need functions ?**\n",
        "\n",
        "**How do we call functions ?**"
      ],
      "metadata": {
        "id": "d1qBbJuBZuLe"
      }
    },
    {
      "cell_type": "code",
      "source": [
        "# Example how to define a function\n",
        "def sum(num1,num2):\n",
        "  return num1+num2\n",
        "\n",
        "y = sum(7,8)\n",
        "print(y)"
      ],
      "metadata": {
        "id": "IpMAqS5Ravge",
        "colab": {
          "base_uri": "https://localhost:8080/"
        },
        "outputId": "18d1ae66-b81a-4b29-b1c5-a25d49d41918"
      },
      "execution_count": null,
      "outputs": [
        {
          "output_type": "stream",
          "name": "stdout",
          "text": [
            "15\n"
          ]
        }
      ]
    },
    {
      "cell_type": "markdown",
      "source": [
        "**Why do we need functions ?**\n",
        "\n",
        "Functions are used to break down a program into smaller, more manageable pieces, making it easier to write, understand, and maintain."
      ],
      "metadata": {
        "id": "ZH6iyLcodLho"
      }
    },
    {
      "cell_type": "markdown",
      "source": [
        "# Exercises"
      ],
      "metadata": {
        "id": "lcPpErKbdgCg"
      }
    },
    {
      "cell_type": "markdown",
      "source": [
        "## Exercise-1\n",
        "\n",
        "Create a phonebook dictionary\n",
        "\n",
        "Create a dictionary to store phone numbers. The keys should be names and the values should be phone numbers. Allow the user to add, remove, and search for entries in the phonebook.\n"
      ],
      "metadata": {
        "id": "GFllBEQzdlX_"
      }
    },
    {
      "cell_type": "code",
      "source": [
        "phonebook = {}\n",
        "\n",
        "def addContact():\n",
        "    name = input(\"Enter the name: \")\n",
        "    phoneNumber = input(\"Enter the phone number: \")\n",
        "    phonebook[name] = phoneNumber\n",
        "\n",
        "def removeContact():\n",
        "    name = input(\"Enter the name to remove: \")\n",
        "    if name in phonebook:\n",
        "        phonebook.pop(name)\n",
        "        print(name,\"has been removed from the phonebook.\")\n",
        "    else:\n",
        "        print(name, \"is not in the phonebook.\")\n",
        "\n",
        "def searchContact():\n",
        "    name = input(\"Enter the name to search: \")\n",
        "    if name in phonebook:\n",
        "        phoneNumber = phonebook[name]\n",
        "        print(f\"{name}'s phone number is {phoneNumber}.\")\n",
        "    else:\n",
        "        print(name,\"is not in the phonebook.\")\n",
        "\n",
        "def displayPhoneBook():\n",
        "  print(f\"name - number\\n\")\n",
        "  for name,number in phonebook.items():\n",
        "    print(f\"{name} - {number}\\n\")\n",
        "\n",
        "while True:\n",
        "    choice = input(\"Enter 1 to add an entry, 2 to remove an entry, 3 to search for an entry, 4 to display contact or 0 to exit: \")\n",
        "    if choice == '1':\n",
        "        addContact()\n",
        "    elif choice == '2':\n",
        "        removeContact()\n",
        "    elif choice == '3':\n",
        "        searchContact()\n",
        "    elif choice == '4':\n",
        "      displayPhoneBook()\n",
        "    elif choice == '0':\n",
        "        break\n",
        "    else:\n",
        "        print(\"Invalid choice. Please enter a number between 0 and 3.\")"
      ],
      "metadata": {
        "id": "R_TIxwoYeFUP"
      },
      "execution_count": null,
      "outputs": []
    },
    {
      "cell_type": "markdown",
      "source": [
        "## Exercise 2\n",
        "Create a shopping cart dictionary\n",
        "\n",
        "Create a dictionary to store items in a shopping cart. The keys should be product names and the values should be quantities. Allow the user to add, remove, and update items in the shopping cart and also calculate the total cost of the shopping cart.\n",
        "\n"
      ],
      "metadata": {
        "id": "pcxsmTmMi0OZ"
      }
    },
    {
      "cell_type": "code",
      "source": [
        "shopping_cart = {}\n",
        "\n",
        "def add_item():\n",
        "    product_name = input(\"Enter the product name: \")\n",
        "    quantity = int(input(\"Enter the quantity: \"))\n",
        "    shopping_cart[product_name] = quantity\n",
        "\n",
        "def remove_item():\n",
        "    product_name = input(\"Enter the product name to remove: \")\n",
        "    if product_name in shopping_cart:\n",
        "        del shopping_cart[product_name]\n",
        "        print(f\"{product_name} has been removed from the shopping cart.\")\n",
        "    else:\n",
        "        print(f\"{product_name} is not in the shopping cart.\")\n",
        "\n",
        "def update_quantity():\n",
        "    product_name = input(\"Enter the product name to update: \")\n",
        "    if product_name in shopping_cart:\n",
        "        new_quantity = int(input(\"Enter the new quantity: \"))\n",
        "        shopping_cart[product_name] = new_quantity\n",
        "    else:\n",
        "        print(f\"{product_name} is not in the shopping cart.\")\n",
        "\n",
        "def calculate_total_cost():\n",
        "    total_cost = 0\n",
        "    for product_name, quantity in shopping_cart.items():\n",
        "        product_price = float(input(f\"Enter the price of {product_name}: \"))\n",
        "        total_cost += product_price * quantity\n",
        "    print(f\"The total cost of your shopping cart is ${total_cost}.\")\n",
        "\n",
        "while True:\n",
        "    choice = input(\"Enter 1 to add an item, 2 to remove an item, 3 to update the quantity of an item, 4 to calculate the total cost, or 0 to exit: \")\n",
        "    if choice == '1':\n",
        "        add_item()\n",
        "    elif choice == '2':\n",
        "        remove_item()\n",
        "    elif choice == '3':\n",
        "        update_quantity()\n",
        "    elif choice == '4':\n",
        "        calculate_total_cost()\n",
        "    elif choice == '0':\n",
        "        break\n",
        "    else:\n",
        "        print(\"Invalid choice. Please enter a number between 0 and 4.\")\n"
      ],
      "metadata": {
        "id": "cP0Y3rtypBU5"
      },
      "execution_count": null,
      "outputs": []
    },
    {
      "cell_type": "code",
      "source": [],
      "metadata": {
        "id": "T542PV6zZxkX"
      },
      "execution_count": null,
      "outputs": []
    },
    {
      "cell_type": "markdown",
      "source": [
        "## Exercise 3:\n",
        "Word Frequency Counter\n",
        "Write a Python program that takes a sentence as input and uses a dictionary to count the frequency of each word."
      ],
      "metadata": {
        "id": "vWMsbnygrV2u"
      }
    },
    {
      "cell_type": "code",
      "source": [
        "def wordFrequencyCounter(sentence):\n",
        "    words = sentence.split()\n",
        "    wordCount = {}\n",
        "\n",
        "    for word in words:\n",
        "        wordCount[word] = wordCount.get(word, 0) + 1\n",
        "\n",
        "    for word, count in wordCount.items():\n",
        "        print(f\"{word}: {count}\")\n",
        "\n",
        "sentence = input(\"Please provide sentence\")\n",
        "wordFrequencyCounter(sentence)"
      ],
      "metadata": {
        "id": "CYylr1hurY8u"
      },
      "execution_count": null,
      "outputs": []
    },
    {
      "cell_type": "markdown",
      "source": [
        "## Exercise 4:\n",
        "\n",
        "Create a movie database using dictionaries. Each movie should have a title, release year, genre, and a list of actors. Implement functions to add a new movie, search for a movie by title, and display all movies."
      ],
      "metadata": {
        "id": "ODV-vsIisgqI"
      }
    },
    {
      "cell_type": "code",
      "source": [
        "# Exercise 3 Solution\n",
        "movies = {}\n",
        "\n",
        "def addMovie(title, year, genre, actors):\n",
        "    movies[title] = {'year': year, 'genre': genre, 'actors': actors}\n",
        "\n",
        "def searchMovie(title):\n",
        "        if title in movies:\n",
        "            print(f\"Movie found: {movies[title]}\")\n",
        "        else:\n",
        "            print(f\"No movie found with the title {title}.\")\n",
        "def displayMovies():\n",
        "    print(\"Movie Database:\")\n",
        "    for title, details in movies.items():\n",
        "        print(f\"{title}: {details}\")\n",
        "\n",
        "# Example usage:\n",
        "addMovie('Inception', 2010, 'Sci-Fi', ['Leonardo DiCaprio', 'Joseph Gordon-Levitt'])\n",
        "addMovie('The Shawshank Redemption', 1994, 'Drama', ['Tim Robbins', 'Morgan Freeman'])\n",
        "displayMovies()\n",
        "searchMovie('Inception')\n"
      ],
      "metadata": {
        "id": "NPAA1tEaspVz",
        "outputId": "69c631f1-ef38-4351-cac8-40527ea0728e",
        "colab": {
          "base_uri": "https://localhost:8080/"
        }
      },
      "execution_count": null,
      "outputs": [
        {
          "output_type": "stream",
          "name": "stdout",
          "text": [
            "Movie Database:\n",
            "Inception: {'year': 2010, 'genre': 'Sci-Fi', 'actors': ['Leonardo DiCaprio', 'Joseph Gordon-Levitt']}\n",
            "The Shawshank Redemption: {'year': 1994, 'genre': 'Drama', 'actors': ['Tim Robbins', 'Morgan Freeman']}\n",
            "Movie found: {'year': 2010, 'genre': 'Sci-Fi', 'actors': ['Leonardo DiCaprio', 'Joseph Gordon-Levitt']}\n"
          ]
        }
      ]
    },
    {
      "cell_type": "markdown",
      "source": [
        "# Exercise 5\n",
        "Given a string **s**, return true if **s** is a good string, or false otherwise.\n",
        "\n",
        "A string **s** is good if all the characters that appear in **s** have the same number of occurrences (i.e., the same frequency).\n",
        "\n",
        "```\n",
        "Example 1:\n",
        "\n",
        "Input: s = \"abacbc\"\n",
        "Output: true\n",
        "Explanation: The characters that appear in s are 'a', 'b', and 'c'. All characters occur 2 times in s.\n",
        "Example 2:\n",
        "\n",
        "Input: s = \"aaabb\"\n",
        "Output: false\n",
        "Explanation: The characters that appear in s are 'a' and 'b'.\n",
        "'a' occurs 3 times while 'b' occurs 2 times, which is not the same number of times.\n",
        "```\n",
        "\n"
      ],
      "metadata": {
        "id": "ZH88zauDoa6Q"
      }
    },
    {
      "cell_type": "code",
      "source": [
        "def areOccurrencesEqual(s):\n",
        "        charsWithCount = countChars(s)\n",
        "        counts = list(charsWithCount.values())\n",
        "        firstCount = counts[0]\n",
        "        for value in counts:\n",
        "            if firstCount != value:\n",
        "                return False\n",
        "        return True\n",
        "\n",
        "\n",
        "def countChars(s):\n",
        "        charToCountMap = {}\n",
        "        for char in s:\n",
        "            charToCountMap[char] = charToCountMap.get(char,0)+1\n",
        "        return charToCountMap\n",
        "\n",
        "print(areOccurrencesEqual(\"true\"))"
      ],
      "metadata": {
        "id": "5vAAcQ9spCY9",
        "colab": {
          "base_uri": "https://localhost:8080/"
        },
        "outputId": "a0488b64-63d9-4baa-c77d-c83a80f08e96"
      },
      "execution_count": 7,
      "outputs": [
        {
          "output_type": "stream",
          "name": "stdout",
          "text": [
            "True\n"
          ]
        }
      ]
    },
    {
      "cell_type": "markdown",
      "source": [
        "# Exercise 6\n",
        "You are given an array of strings names, and an array heights that consists of distinct positive integers. Both arrays are of length n.\n",
        "\n",
        "For each index i, names[i] and heights[i] denote the name and height of the ith person.\n",
        "\n",
        "Return names sorted in descending order by the people's heights.\n",
        "\n",
        "All the values of heights are distinct.\n",
        "\n",
        "```\n",
        "Example 1:\n",
        "Input: names = [\"Mary\",\"John\",\"Emma\"], heights = [180,165,170]\n",
        "Output: [\"Mary\",\"Emma\",\"John\"]\n",
        "Explanation: Mary is the tallest, followed by Emma and John.\n",
        "\n",
        "Example 2:\n",
        "\n",
        "Input: names = [\"Alice\",\"Bob\",\"Bob\"], heights = [155,185,150]\n",
        "Output: [\"Bob\",\"Alice\",\"Bob\"]\n",
        "Explanation: The first Bob is the tallest, followed by Alice and the second Bob.\n",
        "```\n",
        "\n"
      ],
      "metadata": {
        "id": "5rrgBR45klUO"
      }
    },
    {
      "cell_type": "code",
      "source": [
        "# finish this function\n",
        "def sortPeople(names, heights):\n",
        "  heightToNameMap = dict()\n",
        "  for i in range(len(names)):\n",
        "      heightToNameMap[heights[i]] = names[i]\n",
        "\n",
        "  sortedMap = dict(sorted(heightToNameMap.items(), reverse = True))\n",
        "  return list(sortedMap.values())\n",
        "\n",
        "sortPeople([\"Mary\",\"John\",\"Emma\"],[180,165,170])"
      ],
      "metadata": {
        "id": "clYUHoAtk1bm",
        "colab": {
          "base_uri": "https://localhost:8080/"
        },
        "outputId": "23ef415e-e585-4214-dcf5-f3c7e5634f6d"
      },
      "execution_count": 8,
      "outputs": [
        {
          "output_type": "execute_result",
          "data": {
            "text/plain": [
              "['Mary', 'Emma', 'John']"
            ]
          },
          "metadata": {},
          "execution_count": 8
        }
      ]
    }
  ]
}