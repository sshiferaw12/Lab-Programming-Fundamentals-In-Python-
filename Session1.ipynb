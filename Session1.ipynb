{
  "nbformat": 4,
  "nbformat_minor": 0,
  "metadata": {
    "colab": {
      "provenance": [],
      "collapsed_sections": [
        "rm4AQL0-K3Ba",
        "xjMNIca_L9YF",
        "pZfFVyr5W3Xg"
      ],
      "authorship_tag": "ABX9TyMXgRZpvUm2L8PngiJ+MjC/",
      "include_colab_link": true
    },
    "kernelspec": {
      "name": "python3",
      "display_name": "Python 3"
    },
    "language_info": {
      "name": "python"
    }
  },
  "cells": [
    {
      "cell_type": "markdown",
      "metadata": {
        "id": "view-in-github",
        "colab_type": "text"
      },
      "source": [
        "<a href=\"https://colab.research.google.com/github/sshiferaw12/Lab-Programming-Fundamentals-In-Python-/blob/main/Session1.ipynb\" target=\"_parent\"><img src=\"https://colab.research.google.com/assets/colab-badge.svg\" alt=\"Open In Colab\"/></a>"
      ]
    },
    {
      "cell_type": "markdown",
      "source": [
        "# Recap on python fundamental concepts\n",
        "## Datatypes in ptyhon\n",
        "**Variables** - Variables are containers for storing data values.\n",
        "Variables can store data of different types, and different types can do different things.\n",
        "\n",
        "#### Basic Python data types\n",
        " The basic data types in Python store a single value, like a number or a piece of text. The basic data types in Python are:\n",
        "\n",
        "*   **Integers** - a non-fractional number, like 1, 2, 45, -1, -2, and -100\n",
        "*   **Float** - represents a floating-point number, like 2.3, 4.5 and -2.4\n",
        "*   **Booleans** -  either true or false (True or False)\n",
        "*   **Strings** - a string is a piece of text, like \"Hello world\"\n",
        "\n",
        "\n",
        "---\n",
        "\n",
        "\n",
        "\n",
        "**How to check the Python data type?**\n",
        "\n",
        "**How to convert from on type to another ?**\n",
        "\n"
      ],
      "metadata": {
        "id": "z_ESL4CQBdz8"
      }
    },
    {
      "cell_type": "markdown",
      "source": [],
      "metadata": {
        "id": "8R_o7GNjEm-e"
      }
    },
    {
      "cell_type": "markdown",
      "source": [
        "### Examples"
      ],
      "metadata": {
        "id": "rm4AQL0-K3Ba"
      }
    },
    {
      "cell_type": "code",
      "source": [
        "#Example checking type\n",
        "var1 = 2\n",
        "var2 = \"hello\"\n",
        "var3 = 'hello'\n",
        "var4 = 1.4\n",
        "var5 = True\n",
        "\n",
        "print(var1)\n",
        "print(type(var1))\n",
        "\n",
        "print(var2)\n",
        "print(type(var2))\n",
        "\n",
        "print(var3)\n",
        "print(type(var3))\n",
        "\n",
        "print(var4)\n",
        "print(type(var4))\n",
        "\n",
        "print(True)\n"
      ],
      "metadata": {
        "colab": {
          "base_uri": "https://localhost:8080/"
        },
        "id": "XlH1huhrLso2",
        "outputId": "75152122-7fb2-40bc-b583-86f1f42a61d0"
      },
      "execution_count": null,
      "outputs": [
        {
          "output_type": "stream",
          "name": "stdout",
          "text": [
            "2\n",
            "<class 'int'>\n",
            "hello\n",
            "<class 'str'>\n",
            "hello\n",
            "<class 'str'>\n",
            "1.4\n",
            "<class 'float'>\n",
            "True\n"
          ]
        }
      ]
    },
    {
      "cell_type": "code",
      "source": [
        "# Example creating string\n",
        "var1 = \"Hello World\"\n",
        "var2 = 'Heyy'\n",
        "\n",
        "print(var1)\n",
        "print(var2)"
      ],
      "metadata": {
        "colab": {
          "base_uri": "https://localhost:8080/"
        },
        "id": "rdhChIyfEGCI",
        "outputId": "98252037-3a50-4097-8df8-784b8d1520e5"
      },
      "execution_count": null,
      "outputs": [
        {
          "output_type": "stream",
          "name": "stdout",
          "text": [
            "Hello World\n",
            "Heyy\n"
          ]
        }
      ]
    },
    {
      "cell_type": "code",
      "source": [
        "# Example converting types\n",
        "print(\"String to integer\")\n",
        "var1 = int('100')\n",
        "print(var1)\n",
        "print(type(var1))\n",
        "\n",
        "print(\"\\nInteger to string\")\n",
        "var2 = str(200)\n",
        "print(var2)\n",
        "print(type(var2))\n",
        "\n",
        "print(\"\\nFloat to integer\")\n",
        "var3 = int(2.5)\n",
        "print(var3)\n",
        "print(type(var3))\n",
        "\n",
        "print(\"\\nString to float\")\n",
        "var4 = float(\"35.64\")\n",
        "print(var4)\n",
        "\n",
        "print(\"\\nint to boolean\")\n",
        "var5 = 4\n",
        "print(bool(var5))"
      ],
      "metadata": {
        "colab": {
          "base_uri": "https://localhost:8080/"
        },
        "id": "zYatpBvJIkej",
        "outputId": "7e97a2c5-409b-410f-cfe3-d7bbf706b7c5"
      },
      "execution_count": null,
      "outputs": [
        {
          "output_type": "stream",
          "name": "stdout",
          "text": [
            "String to integer\n",
            "100\n",
            "<class 'int'>\n",
            "\n",
            "Integer to string\n",
            "200\n",
            "<class 'str'>\n",
            "\n",
            "Float to integer\n",
            "2\n",
            "<class 'int'>\n",
            "\n",
            "String to float\n",
            "35.64\n",
            "\n",
            "int to boolean\n",
            "True\n"
          ]
        }
      ]
    },
    {
      "cell_type": "markdown",
      "source": [
        "## Python Operators\n",
        "Operators are used to perform operations on variables and values.\n",
        "\n",
        "Some of the commonly used operators in python:\n",
        "\n",
        "\n",
        "*   **Arithmetic operators** - used with numeric values for maths operations\n",
        "*   **Assignment operators** - used to assign values to a vairable\n",
        "*   **Comparison operators** - used to comapre two values\n",
        "*   **Logical operators** - used to combine conditional statements"
      ],
      "metadata": {
        "id": "xjMNIca_L9YF"
      }
    },
    {
      "cell_type": "code",
      "source": [
        "# Examples\n",
        "# Arithmetic operators (+,-,*,/,%,//)\n",
        "num1 = 6\n",
        "num2 = 10\n",
        "\n",
        "print(\"num1+num2 =\",num1+num2)\n",
        "print(\"num1-num2 =\",num1-num2)\n",
        "print(\"num1*num2 =\",num1*num2)\n",
        "print(\"num1/num2 =\",num1/num2)\n",
        "print(\"num1%num2 =\",num1%num2)\n",
        "print(\"num1//num2 =\",num1//num2)\n",
        "\n"
      ],
      "metadata": {
        "id": "VN3AKtrcQlfN"
      },
      "execution_count": null,
      "outputs": []
    },
    {
      "cell_type": "code",
      "source": [
        "# Assignment operators (=, +=, -=, *=)\n",
        "var1 = 5\n",
        "var2 = 4\n",
        "print(\"var1 =\",var1)\n",
        "print(\"var2 =\",var2)\n",
        "\n",
        "var1 += 1\n",
        "print(\"var1 =\", var1)\n",
        "var2 *= 2\n",
        "print(\"var2 =\", var2)"
      ],
      "metadata": {
        "colab": {
          "base_uri": "https://localhost:8080/"
        },
        "id": "Y8pRRv1lSQim",
        "outputId": "7021110a-03f7-452b-cef2-acdd74a51543"
      },
      "execution_count": null,
      "outputs": [
        {
          "output_type": "stream",
          "name": "stdout",
          "text": [
            "var1 = 5\n",
            "var2 = 4\n",
            "var1 = 6\n",
            "var2 = 8\n"
          ]
        }
      ]
    },
    {
      "cell_type": "code",
      "source": [
        "# Comparison operators (==, !=, <, >, <=, >=)\n",
        "print(\"2>3\",2>3)\n",
        "print(\"2<3\",2<3)\n",
        "print(\"2==3\",2==3)\n",
        "print(\"2!=3\",2!=3)\n",
        "print(\"2>=3\",2!=3)\n"
      ],
      "metadata": {
        "colab": {
          "base_uri": "https://localhost:8080/"
        },
        "id": "Kw4L0G7sSZ32",
        "outputId": "1db18ff9-9d9b-4e5e-e2ac-25dcaf996339"
      },
      "execution_count": null,
      "outputs": [
        {
          "output_type": "stream",
          "name": "stdout",
          "text": [
            "2>3 False\n",
            "2<3 True\n",
            "2==3 False\n",
            "2!=3 True\n",
            "2>=3 True\n"
          ]
        }
      ]
    },
    {
      "cell_type": "code",
      "source": [
        "# Logical operators  (and, or, not)\n",
        "var1 = 4\n",
        "var2 = 5\n",
        "var3 = 10\n",
        "var4 = 1\n",
        "\n",
        "print(var1 < var2 and  var3 < var4)"
      ],
      "metadata": {
        "colab": {
          "base_uri": "https://localhost:8080/"
        },
        "id": "zMZaRPJoS1v3",
        "outputId": "d109871e-81eb-43e9-e389-dfbacb8df929"
      },
      "execution_count": null,
      "outputs": [
        {
          "output_type": "stream",
          "name": "stdout",
          "text": [
            "False\n"
          ]
        }
      ]
    },
    {
      "cell_type": "markdown",
      "source": [
        "### Python User Input\n",
        "How do we ask users for input ?\n"
      ],
      "metadata": {
        "id": "hakfb4PGT4ko"
      }
    },
    {
      "cell_type": "code",
      "source": [
        "# Asking for user input using the input function\n",
        "username = input(\"Enter username:\")\n",
        "print(\"Username is: \" + username)"
      ],
      "metadata": {
        "colab": {
          "base_uri": "https://localhost:8080/"
        },
        "id": "hmpL3Qm-UWmt",
        "outputId": "47cd1d11-166a-43b4-9cfe-7f0ef91d4208"
      },
      "execution_count": null,
      "outputs": [
        {
          "output_type": "stream",
          "name": "stdout",
          "text": [
            "Enter username:hi\n",
            "Username is: hi\n"
          ]
        }
      ]
    },
    {
      "cell_type": "markdown",
      "source": [
        "## Conditional Statements in Python\n",
        "So far what we have seen is **sequential execution** in which statements are always performed one after the next, in exactly the order specified.\n",
        "\n",
        "Frequently, a program needs to skip over some statements, execute a series of statements repetitively, or choose between alternate sets of statements to execute.\n",
        "\n",
        "In the real world, we commonly must evaluate information around us and then choose one course of action or another based on what we observe. For example:\n",
        "\n",
        "`If the weather is nice, then I’ll play football. (It’s implied that if the weather isn’t nice, then I won’t play football.)`\n",
        "\n",
        "In a Python program, the if statement is how you perform this sort of decision-making. It allows for conditional execution of a statement or group of statements based on the value of an expression."
      ],
      "metadata": {
        "id": "pZfFVyr5W3Xg"
      }
    },
    {
      "cell_type": "markdown",
      "source": [
        "\n",
        "**If statements**:\n",
        "```\n",
        "if <expr>:\n",
        "    <statement>\n",
        "```\n",
        "\n",
        "In a Python program, contiguous statements that are indented to the same level are considered to be part of the same block.\n",
        "```\n",
        "if <expr>:\n",
        "    <statement>\n",
        "    <statement>\n",
        "    ...\n",
        "    <statement>\n",
        "<following_statement>\n",
        "```\n",
        "**If - else**\n",
        "```\n",
        "if <expr>:\n",
        "    <statement(s)>\n",
        "else:\n",
        "    <statement(s)>\n",
        "```\n",
        "**If - elif - else**\n",
        "```\n",
        "if <expr>:\n",
        "    <statement(s)>\n",
        "elif <expr>:\n",
        "    <statement(s)>\n",
        "elif <expr>:\n",
        "    <statement(s)>\n",
        "    ...\n",
        "else:\n",
        "    <statement(s)>\n",
        "```"
      ],
      "metadata": {
        "id": "By6q9s19cE6I"
      }
    },
    {
      "cell_type": "code",
      "source": [
        "#Example:\n",
        "name = 'Joe'\n",
        "if name == 'Fred':\n",
        "  print('Hello Fred')\n",
        "elif name == 'Xander':\n",
        "  print('Hello Xander')\n",
        "elif name == 'Joe':\n",
        "  print('Hello Joe')\n",
        "elif name == 'Arnold':\n",
        "  print('Hello Arnold')\n",
        "else:\n",
        "  print(\"I don't know who you are!\")"
      ],
      "metadata": {
        "colab": {
          "base_uri": "https://localhost:8080/"
        },
        "id": "NJP-3oQgcnxb",
        "outputId": "2152f50a-d84f-4125-c1fc-13a083e1024e"
      },
      "execution_count": null,
      "outputs": [
        {
          "output_type": "stream",
          "name": "stdout",
          "text": [
            "Hello Joe\n"
          ]
        }
      ]
    },
    {
      "cell_type": "markdown",
      "source": [
        "## Exercises\n",
        "\n",
        "**Exercise-1**\n",
        "\n",
        "Write a Python program that takes a number as input from the user and checks if the number is divisible by 5. If the number is divisible by 5 print \"Number is divisible by 5\", if not print \"Number is not divisible by 5\".\n",
        "\n",
        "**Exercise-2**\n",
        "\n",
        "Write a Python program that takes a number as input from the user and checks if the number is divisible by 5 and 7. If the number is divisible by both 5 and 7 print \"Number is divisible by 5 & 7\", if the number is only divisible by 5 print \"Number is divisible by 5 but not by 7\", if the number is only divisible by 7 print \"Number is divisible by 7 but not by 5\", and if the number is not divisible by neither 5 nor 7 print \"Number is not divisible by both 5 and 7\"\n",
        "\n",
        "**Exercise-3**\n",
        "Write a program that calculates the letter grade for a student based on their score. The program should ask the user for their score, and then print their letter grade to the console.\n",
        "Grading Rule:\n",
        "\n",
        "90 and above: A\n",
        "\n",
        "80 to 89: B\n",
        "\n",
        "70 to 79: C\n",
        "\n",
        "60 to 69: D\n",
        "\n",
        "Below 60%: F\n",
        "\n",
        "**Exercise-4**\n",
        "\n",
        "Write a program that calculates the tip amount for a bill. The program should ask the user for the total amount of the bill, the tip percentage, and the number of people splitting the bill. The program should then print the tip amount per person to the console.\n",
        "\n",
        "**Exercise-5**\n",
        "\n",
        "Write a program that calculates the body mass index (BMI) of a person. The program should ask the user for their weight in kilograms and their height in meters, and then print their BMI to the console.\n",
        "Here is the formula for calculating BMI:\n",
        "\n",
        "BMI = weight (kg) / height² (m²)"
      ],
      "metadata": {
        "id": "NUM7ueTPdZit"
      }
    },
    {
      "cell_type": "code",
      "source": [
        "# Exercise-1 Solution\n",
        "number = int(input(\"Please provide the number you would like to check ?\"))\n",
        "if(number%5 == 0):\n",
        "  print(\"Number is divisible by 5\")\n",
        "else:\n",
        "  print(\"Number is not divisible by 5\")"
      ],
      "metadata": {
        "id": "m6fqsQSvfiWx"
      },
      "execution_count": null,
      "outputs": []
    },
    {
      "cell_type": "code",
      "source": [
        "# Exercise-2 Solution\n",
        "number = int(input(\"Please provide the number you would like to check ?\"))\n",
        "if(number%5 == 0  and number%7 == 0):\n",
        "  print(\"Number is divisible by both 5 and 7\")\n",
        "elif(number%5 == 0):\n",
        "  print(\"Number is divisible by 5 but not by 7\")\n",
        "elif(number%7 == 0):\n",
        "  print(\"Number is divisible by 7 but not by 5\")\n",
        "else:\n",
        "  print(\"Number is not divisible by both 5 and 7\")"
      ],
      "metadata": {
        "colab": {
          "base_uri": "https://localhost:8080/"
        },
        "id": "9i4U2nywgD4w",
        "outputId": "70339c55-9228-418a-a223-aba1ffc19292"
      },
      "execution_count": null,
      "outputs": [
        {
          "output_type": "stream",
          "name": "stdout",
          "text": [
            "Please provide the number you would like to check ?49\n",
            "Number is divisible by 7 but not by 5\n"
          ]
        }
      ]
    },
    {
      "cell_type": "code",
      "source": [
        "# Exercise-3 Solution\n",
        "score = float(input(\"Please give your grade \"))\n",
        "if score >= 90:\n",
        "    print(\"A\")\n",
        "elif score >= 80:\n",
        "    print(\"B\")\n",
        "elif score >= 70:\n",
        "    print(\"C\")\n",
        "elif score >= 60:\n",
        "    print(\"D\")\n",
        "else:\n",
        "    print(\"F\")\n"
      ],
      "metadata": {
        "colab": {
          "base_uri": "https://localhost:8080/"
        },
        "id": "AnVUC0V1j8aH",
        "outputId": "267043c4-c13a-44b6-b611-740f6d35f582"
      },
      "execution_count": null,
      "outputs": [
        {
          "output_type": "stream",
          "name": "stdout",
          "text": [
            "Please give your grade86\n",
            "B\n"
          ]
        }
      ]
    },
    {
      "cell_type": "code",
      "source": [
        "# Exercise-4 Solution\n",
        "totalBillAmount = float(input(\"Please provide the total bill amount \"))\n",
        "tipPercentage = float(input(\"Please provide the tip percentage \"))\n",
        "numberOfPeople = float(input(\"Please provide number of people splitting the bill \"))\n",
        "\n",
        "tipPerPerson = (totalBillAmount*tipPercentage/100)/numberOfPeople\n",
        "print(\"The tip amount per person is \",tipPerPerson)\n"
      ],
      "metadata": {
        "colab": {
          "base_uri": "https://localhost:8080/"
        },
        "id": "Eflt0ncJk7uH",
        "outputId": "b3549991-a958-43ad-dedf-91f8c663bf89"
      },
      "execution_count": null,
      "outputs": [
        {
          "output_type": "stream",
          "name": "stdout",
          "text": [
            "Please provide the total bill amount 2500\n",
            "Please provide the tip percentage 10\n",
            "Please provide number of people splitting the bill 5\n",
            "The tip amount per person is  5000.0\n"
          ]
        }
      ]
    },
    {
      "cell_type": "code",
      "source": [
        "# Exercise-5 solution\n",
        "# Ask the user for their weight in kilograms and their height in meters\n",
        "weight = float(input(\"Enter your weight in kilograms: \"))\n",
        "height = float(input(\"Enter your height in meters: \"))\n",
        "\n",
        "# Calculate the BMI\n",
        "bmi = weight / (height ** 2)\n",
        "\n",
        "# Print the BMI to the console\n",
        "print(\"Your BMI is:\", bmi)"
      ],
      "metadata": {
        "id": "bM9nkoSwxuQY"
      },
      "execution_count": null,
      "outputs": []
    },
    {
      "cell_type": "markdown",
      "source": [
        "## Loops in python\n",
        " A loop is a programming construct that allows you to repeat a block of code until a certain condition is met. Loops are useful for tasks such as iterating over a list of items, processing a large amount of data, or performing a repetitive task.\n",
        "\n",
        "Python has two primitive loop commands:\n",
        "\n",
        "*   while loops\n",
        "*   for loops\n",
        "\n",
        "### **While Loop**\n",
        "With the **while loop** we can execute a set of statements as long as a condition is true.\n",
        "\n",
        "While loop syntax:\n",
        "\n",
        "```\n",
        "while condition:\n",
        "  <statement>\n",
        "  <statement>\n",
        "  <statement>\n",
        "```\n",
        "Incorrect loop conditions can cause an ***infinite loop***. Make sure the condition in the loop evaluates to false at some point.\n",
        "\n",
        "Example:\n",
        "```\n",
        "flag = 0\n",
        "while flag<10:\n",
        "  print(flag)\n",
        "  flag+=1\n",
        "```\n",
        "\n",
        "The **break Statement**\n",
        "With the break statement we can stop the loop even if the while condition is true:\n",
        "\n",
        "```\n",
        "i = 1\n",
        "while i < 6:\n",
        "  print(i)\n",
        "  if i == 3:\n",
        "    break\n",
        "  i += 1\n",
        "```\n",
        "\n",
        "The **continue Statement**\n",
        "With the continue statement we can stop the current iteration, and continue with the next:\n",
        "\n",
        "```\n",
        "i = 0\n",
        "while i < 6:\n",
        "  i += 1\n",
        "  if i == 3:\n",
        "    continue\n",
        "  print(i)\n",
        "```\n",
        "\n"
      ],
      "metadata": {
        "id": "P6MPqph1mBki"
      }
    },
    {
      "cell_type": "markdown",
      "source": [
        "### Exercises\n",
        "**Exercise-1**\n",
        "\n",
        "Write a program that asks users to enter a number and prints all even numbers between 0 and the given number.\n",
        "\n",
        "**Exercise-2**\n",
        "\n",
        "Write a program that prints all numbers that are divisible by 5 and 7  between 1 and 100.\n",
        "\n",
        "**Exercise-3**  \n",
        "\n",
        "Write a program that prints the sum of all odd numbers between 1 and 500.\n",
        "\n",
        "**Exercise-4**\n",
        "\n",
        "Write a program that asks users to provide 5 numbers consecutively calculate the average of the numbers and print the result.\n",
        "\n",
        "**Exercise -5**\n",
        "\n",
        "Write a Python program that repeatedly prompts the user for a number and prints it to the console. The program should stop prompting the user for numbers when the user enters 0.\n",
        "\n",
        "**Exercise -6**\n",
        "\n",
        "Write a program that plays a simple guessing game. The program should generate a random number between 1 and 20, and then ask the user to guess the number. The program should tell the user whether their guess is too high or too low, and give them another chance to guess. The program should continue until the user guesses the correct number or the user has attempted 5 times.\n",
        "Hint:  Here is how you generate a random number in python\n",
        "\n",
        "\n",
        "```\n",
        "#import the random module\n",
        "import random\n",
        "\n",
        "number = random.randint(1, 100)\n",
        "```"
      ],
      "metadata": {
        "id": "UhU4ICKlwOyo"
      }
    },
    {
      "cell_type": "code",
      "source": [
        "# Exercise 1 Solution\n",
        "number = int(input(\"Please provide number\"))\n",
        "i = 0\n",
        "while i<number:\n",
        "  if(i%2 == 0):\n",
        "    print(i)\n",
        "  i+=1"
      ],
      "metadata": {
        "id": "r69slizK2Klk"
      },
      "execution_count": null,
      "outputs": []
    },
    {
      "cell_type": "code",
      "source": [
        "# Exercise 2 Solution\n",
        "i = 1\n",
        "while i<100:\n",
        "  if(i%5==0 and i%7 == 0):\n",
        "    print(i)\n",
        "  i+=1"
      ],
      "metadata": {
        "id": "qTEUshC-4aTs"
      },
      "execution_count": null,
      "outputs": []
    },
    {
      "cell_type": "code",
      "source": [
        "# Exercise 3 Solution\n",
        "\n",
        "i = 1\n",
        "sum = 0\n",
        "while(i<=500):\n",
        "  if(i%2 !=0):\n",
        "    sum += i\n",
        "  i+=1\n",
        "\n",
        "print(sum)"
      ],
      "metadata": {
        "id": "JXpd0h-z5KAA"
      },
      "execution_count": null,
      "outputs": []
    },
    {
      "cell_type": "code",
      "source": [
        "# Exercise 4 Solution\n",
        "\n",
        "i = 1\n",
        "sum = 0\n",
        "while(i<=5):\n",
        "  number = int(input(\"Please provide number \"))\n",
        "  sum += number\n",
        "  i+=1\n",
        "print(sum/5)"
      ],
      "metadata": {
        "id": "is8SNxpm59QK"
      },
      "execution_count": null,
      "outputs": []
    },
    {
      "cell_type": "code",
      "source": [
        "# Exercise 5 Solution\n",
        "\n",
        "n = int(input(\"Enter a number: \"))\n",
        "while n != 0:\n",
        "    n = int(input(\"Enter zero to quit: \"))"
      ],
      "metadata": {
        "id": "IEfC5pp065SU"
      },
      "execution_count": null,
      "outputs": []
    },
    {
      "cell_type": "code",
      "source": [
        "# Exercise 6 Solution\n",
        "import random\n",
        "\n",
        "secret_number = random.randint(1, 20)\n",
        "number_of_guesses = 0\n",
        "\n",
        "while True:\n",
        "\n",
        "    guess = int(input(\"Guess a number between 1 and 20: \"))\n",
        "\n",
        "    if guess == secret_number:\n",
        "        print(\"Congratulations! You guessed the correct number!\")\n",
        "        break\n",
        "\n",
        "    elif guess > secret_number:\n",
        "        print(\"Your guess is too high.\")\n",
        "    else:\n",
        "        print(\"Your guess is too low.\")\n",
        "\n",
        "    number_of_guesses += 1\n",
        "\n",
        "    if number_of_guesses == 5:\n",
        "        print(\"Sorry, you ran out of guesses. The correct number was\", secret_number)\n",
        "        break"
      ],
      "metadata": {
        "id": "SVPlqTjs7XXd"
      },
      "execution_count": null,
      "outputs": []
    }
  ]
}