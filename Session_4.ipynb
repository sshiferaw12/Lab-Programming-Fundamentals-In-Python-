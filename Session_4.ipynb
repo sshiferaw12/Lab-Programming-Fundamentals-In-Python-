{
  "nbformat": 4,
  "nbformat_minor": 0,
  "metadata": {
    "colab": {
      "provenance": [],
      "authorship_tag": "ABX9TyOYXnMF1Ec1nzv0hxjX3e7m",
      "include_colab_link": true
    },
    "kernelspec": {
      "name": "python3",
      "display_name": "Python 3"
    },
    "language_info": {
      "name": "python"
    }
  },
  "cells": [
    {
      "cell_type": "markdown",
      "metadata": {
        "id": "view-in-github",
        "colab_type": "text"
      },
      "source": [
        "<a href=\"https://colab.research.google.com/github/sshiferaw12/Lab-Programming-Fundamentals-In-Python-/blob/main/Session_4.ipynb\" target=\"_parent\"><img src=\"https://colab.research.google.com/assets/colab-badge.svg\" alt=\"Open In Colab\"/></a>"
      ]
    },
    {
      "cell_type": "markdown",
      "source": [
        "# Exercises"
      ],
      "metadata": {
        "id": "-G9cY23RhIMa"
      }
    },
    {
      "cell_type": "markdown",
      "source": [
        "## Exercise 1\n",
        "Contains Duplicate\n",
        "\n",
        "Given an integer array nums, return true if any value appears at least twice in the array, and return false if every element is distinct.\n",
        "\n",
        "Example 1:\n",
        "\n",
        "Input: nums = [1,2,3,1] Output: true\n",
        "\n",
        "Example 2:\n",
        "\n",
        "Input: nums = [1,2,3,4] Output: false\n",
        "\n",
        "Example 3:\n",
        "\n",
        "Input: nums = [1,1,1,3,3,4,3,2,4,2] Output: true"
      ],
      "metadata": {
        "id": "bHpZGp-uZBiU"
      }
    },
    {
      "cell_type": "code",
      "source": [
        "# Solution 1 - Brute force\n",
        "def containsDuplicate(nums) -> bool:\n",
        "    arrLen = len(nums)\n",
        "    for i in range(0, arrLen):\n",
        "        for j in range(i + 1, arrLen)\n",
        "            if nums[i] == nums[j]:\n",
        "                return True\n",
        "\n",
        "print(containsDuplicate([1,1,1,3,3,4,3,2,4,2]))\n",
        "# Time Complexity O(n*n)\n",
        "# Space Complexity O(1)\n",
        "\n",
        "def containsDuplicateOptimized(nums) -> bool:\n",
        "      uniqueItems = set(nums)\n",
        "      return len(nums) != len(uniqueItems)\n",
        "\n",
        "# Time Complexity O(n)\n",
        "# Space Complexity O(n)\n",
        "print(containsDuplicate([1,1,1,3,3,4,3,2,4,2]))"
      ],
      "metadata": {
        "colab": {
          "base_uri": "https://localhost:8080/"
        },
        "id": "9Dhgd8N5ZFqy",
        "outputId": "b630a65a-f62a-41db-8a1d-19629e67fc1e"
      },
      "execution_count": null,
      "outputs": [
        {
          "output_type": "stream",
          "name": "stdout",
          "text": [
            "True\n",
            "True\n"
          ]
        }
      ]
    },
    {
      "cell_type": "markdown",
      "source": [
        "## Exercise 2\n",
        "Two Sum\n",
        "\n",
        "Given an array of integers nums and an integer target, return indices of the two numbers such that they add up to target.\n",
        "\n",
        "You may assume that each input would have exactly one solution, and you may not use the same element twice.\n",
        "\n",
        "You can return the answer in any order.\n",
        "\n",
        "**Example 1**:\n",
        "\n",
        "Input: nums = [2,7,11,15],  target = 9\n",
        "\n",
        "Output: [0,1]\n",
        "\n",
        "Explanation: Because nums[0] + nums[1] == 9, we return [0, 1].\n",
        "\n",
        "\n",
        "**Example 2**:\n",
        "\n",
        "Input: nums = [3,2,4], target = 6\n",
        "Output: [1,2]\n",
        "\n",
        "Example 3:\n",
        "\n",
        "Input: nums = [3,3], target = 6\n",
        "Output: [0,1]"
      ],
      "metadata": {
        "id": "zxnuBt71hN-6"
      }
    },
    {
      "cell_type": "code",
      "source": [
        "# Solution Exercise 1\n",
        "\n",
        "# Brute-force solution -> time complexity\n",
        "def twoSum(nums, target):\n",
        "  for i in range(len(nums)):\n",
        "    for j in range(len(nums)):\n",
        "      if i != j and nums[i]+nums[j] == target:\n",
        "        return [i,j]\n",
        "\n",
        "print(twoSum([2,7,11,15],9))\n",
        "\n",
        "\n",
        "# Optimised Solution using dictionary\n",
        "def twoSumOptimized(nums, target):\n",
        "    items = dict()\n",
        "    for i in range(len(nums)):\n",
        "        value = target-nums[i]\n",
        "        if (value in items):\n",
        "          return [items[value],i]\n",
        "        items[nums[i]] = i\n",
        "print(twoSumOptimized([2,7,11,15],9))"
      ],
      "metadata": {
        "colab": {
          "base_uri": "https://localhost:8080/"
        },
        "id": "rqZi1iE-iicU",
        "outputId": "fe80684c-bd7c-4c4c-a722-a13dad221a8a"
      },
      "execution_count": null,
      "outputs": [
        {
          "output_type": "stream",
          "name": "stdout",
          "text": [
            "[0, 1]\n",
            "[0, 1]\n"
          ]
        }
      ]
    },
    {
      "cell_type": "markdown",
      "source": [
        "## Exercise 3\n",
        "Sum of Unique Elements\n",
        "\n",
        "You are given an integer array nums. The unique elements of an array are the elements that appear exactly once in the array.\n",
        "\n",
        "Return the sum of all the unique elements of nums.\n",
        "\n",
        "\n",
        "\n",
        "**Example 1**:\n",
        "\n",
        "Input: nums = [1,2,3,2]\n",
        "Output: 4\n",
        "Explanation: The unique elements are [1,3], and the sum is 4.\n",
        "\n",
        "\n",
        "**Example 2**:\n",
        "\n",
        "Input: nums = [1,1,1,1,1]\n",
        "Output: 0\n",
        "Explanation: There are no unique elements, and the sum is 0.\n",
        "\n",
        "\n",
        "**Example 3**:\n",
        "\n",
        "Input: nums = [1,2,3,4,5]\n",
        "Output: 15\n",
        "Explanation: The unique elements are [1,2,3,4,5], and the sum is 15."
      ],
      "metadata": {
        "id": "ppdvc1ISqvJe"
      }
    },
    {
      "cell_type": "code",
      "source": [
        "# Solution 1 using dictionary\n",
        "def sumOfUnique(nums):\n",
        "    counter = itemCounter(nums)\n",
        "    total = 0\n",
        "    for item,value in counter.items():\n",
        "        if value == 1:\n",
        "            total += item\n",
        "\n",
        "    return total\n",
        "\n",
        "def itemCounter(nums):\n",
        "    counter = dict()\n",
        "    for num in nums:\n",
        "        counter[num] = counter.get(num,0) + 1\n",
        "    return counter\n",
        "\n",
        "print(sumOfUnique([1,2,3,2]))\n",
        "print(sumOfUnique([1,2,3,4,5]))"
      ],
      "metadata": {
        "colab": {
          "base_uri": "https://localhost:8080/"
        },
        "id": "p1WA82l_qwnT",
        "outputId": "cf870987-909e-4f88-e6c0-486cb56bdf56"
      },
      "execution_count": null,
      "outputs": [
        {
          "output_type": "stream",
          "name": "stdout",
          "text": [
            "4\n",
            "15\n"
          ]
        }
      ]
    },
    {
      "cell_type": "markdown",
      "source": [
        "## Exercise 4\n",
        "Find Lucky Integer in an Array\n",
        "\n",
        "Given an array of integers arr, a lucky integer is an integer that has a frequency in the array equal to its value.\n",
        "\n",
        "Return the largest lucky integer in the array. If there is no lucky integer return -1.\n",
        "\n",
        "**Example 1:**\n",
        "\n",
        "Input: arr = [2,2,3,4]\n",
        "\n",
        "Output: 2\n",
        "Explanation: The only lucky number in the array is 2 because frequency[2] == 2.\n",
        "\n",
        "**Example 2:**\n",
        "\n",
        "Input: arr = [1,2,2,3,3,3]\n",
        "\n",
        "Output: 3\n",
        "Explanation: 1, 2 and 3 are all lucky numbers, return the largest of them.\n",
        "\n",
        "**Example 3:**\n",
        "\n",
        "Input: arr = [2,2,2,3,3]\n",
        "\n",
        "Output: -1\n",
        "Explanation: There are no lucky numbers in the array.\n"
      ],
      "metadata": {
        "id": "45_GHOb9t7iy"
      }
    },
    {
      "cell_type": "code",
      "source": [
        "# Solution\n",
        "def findLucky(arr) -> int:\n",
        "    counter = frequencyCouter(arr)\n",
        "\n",
        "    luckyInteger = 0\n",
        "    for num in arr:\n",
        "        if counter[num] == num:\n",
        "            luckyInteger = max(luckyInteger,num)\n",
        "\n",
        "    return luckyInteger if luckyInteger != 0 else -1\n",
        "\n",
        "\n",
        "def frequencyCouter(arr):\n",
        "    counter = dict()\n",
        "    for num in arr:\n",
        "        counter[num] = counter.get(num,0) + 1\n",
        "    return counter\n",
        "\n",
        "print(findLucky([2,2,3,4]))"
      ],
      "metadata": {
        "colab": {
          "base_uri": "https://localhost:8080/"
        },
        "id": "1SwaadTSt7N1",
        "outputId": "e3b21cb4-64f3-4ce7-908c-fb477e68a3ff"
      },
      "execution_count": null,
      "outputs": [
        {
          "output_type": "stream",
          "name": "stdout",
          "text": [
            "2\n"
          ]
        }
      ]
    },
    {
      "cell_type": "markdown",
      "source": [
        "## Exercise 5\n",
        "Valid Anagram\n",
        "\n",
        "Given two strings s and t, return true if t is an anagram of s, and false otherwise.\n",
        "\n",
        "An Anagram is a word or phrase formed by rearranging the letters of a different word or phrase, typically using all the original letters exactly once.\n",
        "\n",
        "\n",
        "Example 1:\n",
        "\n",
        "Input: s = \"anagram\", t = \"nagaram\"\n",
        "Output: true\n",
        "Example 2:\n",
        "\n",
        "Input: s = \"rat\", t = \"car\"\n",
        "Output: false"
      ],
      "metadata": {
        "id": "on7juwoUeijC"
      }
    },
    {
      "cell_type": "code",
      "source": [
        "from collections import Counter\n",
        "class Solution:\n",
        "    def isAnagram(self, s: str, t: str) -> bool:\n",
        "        sCounter = Counter(s)\n",
        "        tCounter = Counter(t)\n",
        "\n",
        "        if len(sCounter) != len(tCounter):\n",
        "             return False\n",
        "\n",
        "        for item,value in sCounter.items():\n",
        "            if tCounter[item] != value:\n",
        "                return False\n",
        "\n",
        "        return True"
      ],
      "metadata": {
        "id": "9C-RhlFLhAAW"
      },
      "execution_count": null,
      "outputs": []
    }
  ]
}