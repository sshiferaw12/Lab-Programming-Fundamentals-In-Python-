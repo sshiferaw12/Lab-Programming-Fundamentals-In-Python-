{
  "nbformat": 4,
  "nbformat_minor": 0,
  "metadata": {
    "colab": {
      "provenance": [],
      "collapsed_sections": [
        "CDQ7_uJfRTSK"
      ],
      "toc_visible": true,
      "authorship_tag": "ABX9TyOKcQ8srX8nN0hDYjnKl1b9",
      "include_colab_link": true
    },
    "kernelspec": {
      "name": "python3",
      "display_name": "Python 3"
    },
    "language_info": {
      "name": "python"
    }
  },
  "cells": [
    {
      "cell_type": "markdown",
      "metadata": {
        "id": "view-in-github",
        "colab_type": "text"
      },
      "source": [
        "<a href=\"https://colab.research.google.com/github/sshiferaw12/Lab-Programming-Fundamentals-In-Python-/blob/main/Session2_WithoutSolutions.ipynb\" target=\"_parent\"><img src=\"https://colab.research.google.com/assets/colab-badge.svg\" alt=\"Open In Colab\"/></a>"
      ]
    },
    {
      "cell_type": "markdown",
      "source": [
        "# Lists in Python\n",
        "Lists are one of the four built-in collection datatypes(lists, tuples, dictionaries and sets) in python, which store collection data.\n",
        "\n",
        "Lists are used to store multiple items in a single variable.\n",
        "\n",
        "\n",
        "General notes about lists:\n",
        "\n",
        "* Lists can store duplicate values.\n",
        "* List items are ordered.\n",
        "* List items are indexed. Index starts from 0.\n",
        "* List items can be changed.\n",
        "* List items can be of any data type.\n",
        "\n",
        "\n",
        "\n",
        "**How do we create lists ?**\n",
        "\n",
        "**How do we check the size of lists ?**\n",
        "\n",
        "**How do we access list items ?**"
      ],
      "metadata": {
        "id": "fS2-_v7eJUzD"
      }
    },
    {
      "cell_type": "code",
      "execution_count": null,
      "metadata": {
        "id": "zcYxoQQUIhD9"
      },
      "outputs": [],
      "source": [
        "# Examples:\n",
        "# Create lists\n",
        "list1 = [4,5,6,7,7]\n",
        "print(list1)\n",
        "\n",
        "list2 = [\"Alex\",\"Martin\",\"Coco\"]\n",
        "print(len(list2))\n",
        "print(list2)"
      ]
    },
    {
      "cell_type": "markdown",
      "source": [
        "## Acesss List Items\n",
        "\n",
        "* We use an index to access list items. and a list index starts from 0. Example: `list[0]`\n",
        "\n",
        "* We can also use a negative index to access list items from the end. Example: `list[-1]`\n",
        "\n",
        "* We can also use a range of indexes to access multiple items of a list.\n",
        "Example: `list[2:5]` (item at index 2 is included and item at index 5 is not included)\n",
        "\n",
        "**How do we check if an item exists in a list ?**\n",
        "\n",
        "**How do we change a list item ?**\n"
      ],
      "metadata": {
        "id": "NXFOqoHrNp9p"
      }
    },
    {
      "cell_type": "code",
      "source": [
        "# Examples access list items\n",
        "# using index\n",
        "\n",
        "# print the first item of the list from the follow list\n",
        "names = [\"Alex\",\"Martin\",\"Coco\"]\n",
        "print(names[0])\n"
      ],
      "metadata": {
        "colab": {
          "base_uri": "https://localhost:8080/"
        },
        "id": "GHcYl0O2Ol9L",
        "outputId": "a588d133-5a71-4d27-ed26-9188db534a33"
      },
      "execution_count": null,
      "outputs": [
        {
          "output_type": "stream",
          "name": "stdout",
          "text": [
            "Alex\n"
          ]
        }
      ]
    },
    {
      "cell_type": "code",
      "source": [
        "# Examples access list items\n",
        "# print the second item of the list from the following list\n",
        "names = [\"Alex\",\"Martin\",\"Coco\"]\n",
        "print(names[1])"
      ],
      "metadata": {
        "id": "73en9-1rQ1Rd"
      },
      "execution_count": null,
      "outputs": []
    },
    {
      "cell_type": "code",
      "source": [
        "# Examples access list items\n",
        "# using negative index\n",
        "\n",
        "# print the last item of the list from the following list\n",
        "names = [\"Alex\",\"Martin\",\"Coco\",\"Brian\"]\n",
        "print(names[-1])"
      ],
      "metadata": {
        "id": "7Gk-amG3Os8b"
      },
      "execution_count": null,
      "outputs": []
    },
    {
      "cell_type": "code",
      "source": [
        "# Examples access list items\n",
        "# using range indexes\n",
        "\n",
        "# print the first two items from the list\n",
        "names = [\"Alex\",\"Martin\",\"Coco\",\"Brian\"]\n",
        "print(names[0:2])"
      ],
      "metadata": {
        "id": "HPM1Ij18RDQJ"
      },
      "execution_count": null,
      "outputs": []
    },
    {
      "cell_type": "code",
      "source": [
        "# Examples access list items\n",
        "# print the last three items from the list\n",
        "names = [\"Alex\",\"Martin\",\"Coco\",\"Brian\"]\n",
        "print(names[1:])"
      ],
      "metadata": {
        "id": "RKP2jwoCRGnY"
      },
      "execution_count": null,
      "outputs": []
    },
    {
      "cell_type": "code",
      "source": [
        "# Examples access list items\n",
        "# check if an item exists in a list\n",
        "names = [\"Alex\",\"Martin\",\"Coco\",\"Brian\"]\n",
        "print(\"Alex\" in names)"
      ],
      "metadata": {
        "id": "TliHWMJrRJCd"
      },
      "execution_count": null,
      "outputs": []
    },
    {
      "cell_type": "code",
      "source": [
        "# Examples access list items\n",
        "# change list item\n",
        "names = [\"Alex\",\"Martin\",\"Coco\",\"Brian\"]\n",
        "print(names)\n",
        "names[2] = \"Jhon\" # this line is changing the 3rd element of the list (Coco) to Jhon\n",
        "print(names)"
      ],
      "metadata": {
        "id": "1nLPcVzlRLaG"
      },
      "execution_count": null,
      "outputs": []
    },
    {
      "cell_type": "markdown",
      "source": [],
      "metadata": {
        "id": "QT1nO-b3RRtv"
      }
    },
    {
      "cell_type": "markdown",
      "source": [
        "## List methods\n",
        "\n",
        "*   `append()`: adds element to the end of the list.\n",
        "*   `insert()`: adds an element at the specified position.\n",
        "*   `pop()`: removes the element at the specified position\n",
        "*   `remove()`:\tremoves the item with the specified value\n",
        "And many more -> [Here](https://docs.python.org/3/tutorial/datastructures.html)"
      ],
      "metadata": {
        "id": "CDQ7_uJfRTSK"
      }
    },
    {
      "cell_type": "code",
      "source": [
        "# Example\n",
        "# adding items\n",
        "names = [\"Alex\",\"Martin\",\"Coco\",\"Brian\"]\n",
        "names.append(\"Robel\")\n",
        "print(names)\n",
        "names.insert(2,\"Jack\")\n",
        "print(names)\n"
      ],
      "metadata": {
        "colab": {
          "base_uri": "https://localhost:8080/"
        },
        "id": "_jXv9aBoSxd_",
        "outputId": "696be821-f8cf-4623-b616-c6e5f18e7a05"
      },
      "execution_count": null,
      "outputs": [
        {
          "output_type": "stream",
          "name": "stdout",
          "text": [
            "['Alex', 'Martin', 'Coco', 'Brian', 'Robel']\n",
            "['Alex', 'Martin', 'Jack', 'Coco', 'Brian', 'Robel']\n"
          ]
        }
      ]
    },
    {
      "cell_type": "code",
      "source": [
        "# Example\n",
        "# deleting items\n",
        "names = [\"Alex\",\"Martin\",\"Coco\",\"Brian\"]\n",
        "names.pop()\n",
        "print(names)\n",
        "\n",
        "names = [\"Alex\",\"Martin\",\"Coco\",\"Brian\"]\n",
        "names.remove(\"Alex\")\n",
        "print(names)\n"
      ],
      "metadata": {
        "colab": {
          "base_uri": "https://localhost:8080/"
        },
        "id": "Sx_Zv94GTVoV",
        "outputId": "c265596a-3186-465c-bcd7-c5d5b3d6504e"
      },
      "execution_count": null,
      "outputs": [
        {
          "output_type": "stream",
          "name": "stdout",
          "text": [
            "['Alex', 'Martin', 'Coco']\n",
            "['Martin', 'Coco', 'Brian']\n"
          ]
        }
      ]
    },
    {
      "cell_type": "markdown",
      "source": [
        "# For Loops\n",
        "A for loop is used for iterating over a sequence (that is either a list, a tuple, a dictionary, a set, or a string).\n",
        "\n",
        "With the for loop we can execute a set of statements, once for each item in a list, tuple, set etc.\n",
        "\n",
        "Like while loops, we also have `break` and `continue` statements in for loops."
      ],
      "metadata": {
        "id": "9bbBsKIuT33y"
      }
    },
    {
      "cell_type": "code",
      "source": [
        "# Example\n",
        "# print each name in the names list\n",
        "names = [\"Alex\",\"Martin\",\"Coco\",\"Brian\"]\n",
        "for name in names:\n",
        "  print(name)"
      ],
      "metadata": {
        "id": "3XBy5ekKUqLL"
      },
      "execution_count": null,
      "outputs": []
    },
    {
      "cell_type": "code",
      "source": [
        "# Example using break in for loop\n",
        "names = [\"Alex\",\"Martin\",\"Coco\",\"Brian\"]\n",
        "for name in names:\n",
        "  if(name == \"Martin\"):\n",
        "    break\n",
        "  print(name)"
      ],
      "metadata": {
        "colab": {
          "base_uri": "https://localhost:8080/"
        },
        "id": "iVVrivGIVFvC",
        "outputId": "3ff93662-f896-419e-f804-7b8bf5ea45e3"
      },
      "execution_count": null,
      "outputs": [
        {
          "output_type": "stream",
          "name": "stdout",
          "text": [
            "Alex\n"
          ]
        }
      ]
    },
    {
      "cell_type": "code",
      "source": [
        "# Example using continue in for loop\n",
        "names = [\"Alex\",\"Martin\",\"Coco\",\"Brian\"]\n",
        "for name in names:\n",
        "  if(name == \"Martin\"):\n",
        "    continue\n",
        "  print(name)"
      ],
      "metadata": {
        "colab": {
          "base_uri": "https://localhost:8080/"
        },
        "id": "Ulnxc3h3VQhg",
        "outputId": "4a994e94-5784-40e5-dbb2-86432f36e097"
      },
      "execution_count": null,
      "outputs": [
        {
          "output_type": "stream",
          "name": "stdout",
          "text": [
            "Alex\n",
            "Coco\n",
            "Brian\n"
          ]
        }
      ]
    },
    {
      "cell_type": "code",
      "source": [
        "# Looping through a string\n",
        "name = \"Alexander\"\n",
        "for letter in name:\n",
        "  print(letter)"
      ],
      "metadata": {
        "id": "w_nRTV8fVY0u"
      },
      "execution_count": null,
      "outputs": []
    },
    {
      "cell_type": "markdown",
      "source": [
        "### The `range()` Function\n",
        "\n",
        "The `range()` function returns a sequence of numbers, starting from 0 by default, and increments by 1 (by default), and ends at a specified number.\n"
      ],
      "metadata": {
        "id": "PVfEbmdlVqCX"
      }
    },
    {
      "cell_type": "code",
      "source": [
        "# Example\n",
        "# using range function\n",
        "for i in range(6):\n",
        "  print(i)"
      ],
      "metadata": {
        "id": "If_BOuGDX_Fe"
      },
      "execution_count": null,
      "outputs": []
    },
    {
      "cell_type": "code",
      "source": [
        "# Example\n",
        "# using range function\n",
        "for i in range(2,6):\n",
        "  print(i)"
      ],
      "metadata": {
        "id": "PZ7wOmV4YJZQ"
      },
      "execution_count": null,
      "outputs": []
    },
    {
      "cell_type": "code",
      "source": [
        "# Example\n",
        "# using range function\n",
        "for i in range(2,10,2):\n",
        "  print(i)"
      ],
      "metadata": {
        "id": "U2jWTDHfYQxB"
      },
      "execution_count": null,
      "outputs": []
    },
    {
      "cell_type": "code",
      "source": [
        "# Example\n",
        "# using range function\n",
        "for i in range(10,2,-1):\n",
        "  print(i)"
      ],
      "metadata": {
        "id": "qieFhvTMYT6k"
      },
      "execution_count": null,
      "outputs": []
    },
    {
      "cell_type": "markdown",
      "source": [
        "### Exercise 1\n",
        "Write a Python program to get the largest number from a given list\n",
        "\n",
        "```\n",
        "numbers = [2,3,5,1,3,14,13,19,-1,21,43,12]\n",
        "\n",
        "```\n",
        "\n"
      ],
      "metadata": {
        "id": "3Jk0VOTQ4LYB"
      }
    },
    {
      "cell_type": "markdown",
      "source": [
        "### Exercise 2\n",
        "Write a Python program to select the odd number of a list\n",
        "\n",
        "Sample Output\n",
        "\n",
        "```\n",
        "numbers = [1,2,4,3,6,7,5,8,9,7,8,9,10]\n",
        "\n",
        "expected output = [1, 3, 7, 5, 9, 7, 9]\n",
        "```\n"
      ],
      "metadata": {
        "id": "SQ0dPYXj7Bfo"
      }
    },
    {
      "cell_type": "markdown",
      "source": [
        "### Exercise 3\n",
        "\n",
        "Write a program to calculate the sum of all numbers in a given list:\n",
        "\n",
        "give list: `[3,5,6,7,7,3,7,8,9]`\n",
        "\n",
        "expected output = 55\n"
      ],
      "metadata": {
        "id": "4ZtXb3OO4z98"
      }
    },
    {
      "cell_type": "markdown",
      "source": [
        "### Exercise 4\n",
        "Write a program that keeps track of items purchased in a shopping list. The program should prompt the user to enter an item purchased. If the item is not already in the shopping list, the program should add it to the list. The program should continue prompting the user for more items until the user enters \"finish\". Once the user enters \"finish\", the program should print the shopping list to the console.\n"
      ],
      "metadata": {
        "id": "Ak0gLunda-95"
      }
    },
    {
      "cell_type": "markdown",
      "source": [
        "\n",
        "### Exercise 5\n",
        "You are given the following list, which is a list of prices items shopped above. Write a program that calculates the average price of the items.\n",
        "\n",
        "\n",
        "```\n",
        "prices = [20,30,23,40, 50, 60]\n",
        "```\n",
        "expected output = 37.17"
      ],
      "metadata": {
        "id": "QYUTxaAQ1aZS"
      }
    },
    {
      "cell_type": "markdown",
      "source": [
        "\n",
        "### Exercise 6\n",
        "Write a program that asks users a series of questions and displays their score at the end. The program should ask the questions one at a time and keep track of the user's score. If the user answers a question correctly, they should receive 1 point. If they answer a question incorrectly, they should receive 0 points. At the end of the quiz, the program should display the user's total score. Use a list to store the questions and answers.\n",
        "Sample questions:\n",
        "1. What is the capital of France? **Paris**\n",
        "2. What is the square root of 16? **4**\n",
        "3. What is the largest ocean? **Pacific Ocean**\n",
        "4. Where did the last World cup take place? **Qatar**\n",
        "\n",
        "\n",
        "\n"
      ],
      "metadata": {
        "id": "21L40Ocv1c8F"
      }
    },
    {
      "cell_type": "code",
      "source": [
        "# Exercise 6 - Solution\n",
        "questions = [\"What is the capital of France?\", \"What is the square root of 16?\", \"What is the largest ocean?\", \"Where did the last World Cup take place?\"]\n",
        "answers = [\"Paris\",\"4\",\"Pacific Ocean\",\"Qatar\"]\n",
        "\n",
        "score = 0\n",
        "for i in range(len(questions)):\n",
        "  answer = input(questions[i])\n",
        "  if answer == answers[i]:\n",
        "    score += 1\n",
        "\n",
        "print(score)\n",
        "\n",
        "\n"
      ],
      "metadata": {
        "colab": {
          "base_uri": "https://localhost:8080/"
        },
        "id": "DfR8ya6RuzJM",
        "outputId": "b34bad26-9c57-4f0b-cede-9d271f4eca8f"
      },
      "execution_count": null,
      "outputs": [
        {
          "output_type": "stream",
          "name": "stdout",
          "text": [
            "What is the capital of France?b\n",
            "What is the square root of 16?4\n",
            "What is the largest ocean?Pacific Ocean\n",
            "Where did the last World Cup take place?d\n",
            "2\n"
          ]
        }
      ]
    },
    {
      "cell_type": "markdown",
      "source": [
        "Exercise 7\n",
        "Given an array of integers nums, return the number of good pairs.\n",
        "\n",
        "A pair (i, j) is called good if nums[i] == nums[j] and i < j.\n",
        "\n",
        "```\n",
        "Example 1:\n",
        "\n",
        "Input: nums = [1,2,3,1,1,3]\n",
        "Output: 4\n",
        "Explanation: There are 4 good pairs (0,3), (0,4), (3,4), (2,5) 0-indexed.\n",
        "Example 2:\n",
        "\n",
        "Input: nums = [1,1,1,1]\n",
        "Output: 6\n",
        "Explanation: Each pair in the array are good.\n",
        "Example 3:\n",
        "\n",
        "Input: nums = [1,2,3]\n",
        "Output: 0\n",
        "```\n",
        "\n"
      ],
      "metadata": {
        "id": "hj3nKRfQibGZ"
      }
    },
    {
      "cell_type": "code",
      "source": [],
      "metadata": {
        "id": "eOkQFPdf008X"
      },
      "execution_count": null,
      "outputs": []
    }
  ]
}